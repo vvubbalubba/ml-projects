{
 "cells": [
  {
   "cell_type": "markdown",
   "id": "3022700e",
   "metadata": {
    "id": "0fd80301"
   },
   "source": [
    "# ДЗ 2"
   ]
  },
  {
   "cell_type": "markdown",
   "id": "f6ffe465",
   "metadata": {
    "id": "2d817b55"
   },
   "source": [
    "В этом задании нужно будет обучить архитектуру для задачи Image Classification. Вам нужно будет реализовать архитектуру, обучить ее, а так же выполнить некоторые дополнительные задания."
   ]
  },
  {
   "cell_type": "markdown",
   "id": "622006bb",
   "metadata": {
    "id": "01b40a0d"
   },
   "source": [
    "В качестве датасета будет использовать вот этот - https://www.kaggle.com/datasets/slothkong/10-monkey-species"
   ]
  },
  {
   "cell_type": "markdown",
   "id": "f614f7cd",
   "metadata": {
    "id": "9_7qrvygyZmF"
   },
   "source": [
    "### Imports"
   ]
  },
  {
   "cell_type": "code",
   "execution_count": 3,
   "id": "daa2851a",
   "metadata": {
    "id": "x1U2z6vnshdM"
   },
   "outputs": [],
   "source": [
    "# !pip install pytorch_lightning"
   ]
  },
  {
   "cell_type": "code",
   "execution_count": 2,
   "id": "1b804adb",
   "metadata": {
    "id": "Epc1MGPigexY"
   },
   "outputs": [],
   "source": [
    "from matplotlib import pyplot as plt\n",
    "from torch.utils.data import Dataset, DataLoader\n",
    "import torch\n",
    "import numpy as np\n",
    "from torchvision import transforms\n",
    "from torchvision.datasets import ImageFolder\n",
    "import torchvision\n",
    "import torchvision.models as models\n",
    "import pytorch_lightning as pl\n",
    "import torch.nn as nn\n",
    "from torchmetrics import Accuracy\n",
    "import torch.optim as optim\n",
    "from pytorch_lightning.callbacks.early_stopping import EarlyStopping\n",
    "from pytorch_lightning.callbacks import ModelCheckpoint\n",
    "from collections import Counter\n",
    "import torch.nn.functional as F\n",
    "import os\n",
    "import sys\n",
    "import albumentations as A\n",
    "from albumentations.pytorch import ToTensorV2\n",
    "import copy\n",
    "import random\n",
    "import cv2\n",
    "import fnmatch\n",
    "from tqdm import tqdm\n",
    "from sklearn.metrics import accuracy_score\n",
    "from sklearn.metrics import f1_score\n",
    "from torch.optim import lr_scheduler\n",
    "from sklearn.metrics import confusion_matrix\n",
    "from sklearn.metrics import classification_report\n",
    "import seaborn as sn\n",
    "import pandas as pd"
   ]
  },
  {
   "cell_type": "markdown",
   "id": "00977bf0",
   "metadata": {
    "id": "miNCXttFydaJ"
   },
   "source": [
    "### Task"
   ]
  },
  {
   "cell_type": "markdown",
   "id": "ffe91394",
   "metadata": {
    "id": "7509a28f"
   },
   "source": [
    "Реализуйте VGG16 from scratch. Чтобы вспомнить архитектуру, обратитесь к лекции + оригинальной статье авторов+google.\n",
    "\n",
    "Если хотите реализовать что-то поинтереснее (resnet, ViT???) - делайте, будет учтено."
   ]
  },
  {
   "cell_type": "markdown",
   "id": "e03b9b79",
   "metadata": {
    "id": "1e4097d4"
   },
   "source": [
    "Что будет оцениваться в задании:\n",
    "* VGG16 from scratch **6 баллов**\n",
    "* добавьте аугментаций, напишите краткое саммари почему выбрали именно такой набор аугментаций. **1 балл**\n",
    "* дописать логику обучения модели **2 балла**\n",
    "* дописать логику тестирования модели **1 балл**\n",
    "* возьмите еще 2 модели из зоопарка моделей [torchvision](https://pytorch.org/vision/stable/models.html?), зафайнтюньте на наш датасет. Сравните их между собой и вашей реализацией. **4 балла**\n",
    "* обязательно в конце напишите общий отчет о проделанной работе. Для лучшей модели проведите анализ метрик и ошибок, постройте confusion_matrix и classification report **2 балла**\n",
    "* графики обучения обязательно должны присутсвовать\n",
    "\n",
    "**NOTE**: рядом лежит ноутбук с baseline solution, вы можете отталкиваться от него, если хотите."
   ]
  },
  {
   "cell_type": "markdown",
   "id": "9fe029e2",
   "metadata": {
    "id": "Y4nC_hpgykYB"
   },
   "source": [
    "## VGG"
   ]
  },
  {
   "cell_type": "markdown",
   "id": "ca26d48c",
   "metadata": {
    "id": "laAfRZwKu3g4"
   },
   "source": [
    "### VGG16"
   ]
  },
  {
   "cell_type": "code",
   "execution_count": 3,
   "id": "e5a10390",
   "metadata": {
    "id": "8ac22004"
   },
   "outputs": [],
   "source": [
    "class VGG16(nn.Module):\n",
    "    def __init__(self, num_classes=10):\n",
    "        super(VGG16, self).__init__()\n",
    "\n",
    "        self.layer1 = nn.Sequential(\n",
    "            nn.Conv2d(3, 64, kernel_size=3, stride=1, padding=1),\n",
    "            nn.BatchNorm2d(64),\n",
    "            nn.ReLU()) # b_s x 3 x 512 x 512 -> b_s x 64 x 512 x 512\n",
    "        \n",
    "        self.layer2 = nn.Sequential(\n",
    "            nn.Conv2d(64, 64, kernel_size=3, stride=1, padding=1),\n",
    "            nn.BatchNorm2d(64),\n",
    "            nn.ReLU(), \n",
    "            nn.MaxPool2d(kernel_size = 2, stride = 2)) # b_s x 64 x 512 x 512 -> b_s x 64 x 256 x 256\n",
    "        \n",
    "        self.layer3 = nn.Sequential(\n",
    "            nn.Conv2d(64, 128, kernel_size=3, stride=1, padding=1),\n",
    "            nn.BatchNorm2d(128),\n",
    "            nn.ReLU()) # b_s x 64 x 256 x 256 -> b_s x 128 x 256 x 256\n",
    "        \n",
    "        self.layer4 = nn.Sequential(\n",
    "            nn.Conv2d(128, 128, kernel_size=3, stride=1, padding=1),\n",
    "            nn.BatchNorm2d(128),\n",
    "            nn.ReLU(),\n",
    "            nn.MaxPool2d(kernel_size = 2, stride = 2)) # b_s x 128 x 256 x 256 -> b_s x 128 x 128 x 128\n",
    "        \n",
    "        self.layer5 = nn.Sequential(\n",
    "            nn.Conv2d(128, 256, kernel_size=3, stride=1, padding=1),\n",
    "            nn.BatchNorm2d(256),\n",
    "            nn.ReLU()) # b_s x 128 x 128 x 128 -> b_s x 256 x 128 x 128\n",
    "        \n",
    "        self.layer6 = nn.Sequential(\n",
    "            nn.Conv2d(256, 256, kernel_size=3, stride=1, padding=1),\n",
    "            nn.BatchNorm2d(256),\n",
    "            nn.ReLU(),\n",
    "            nn.MaxPool2d(kernel_size = 2, stride = 2)) # b_s x 256 x 128 x 128 -> b_s x 256 x 64 x 64\n",
    "        \n",
    "        self.layer7 = nn.Sequential(\n",
    "            nn.Conv2d(256, 512, kernel_size=3, stride=1, padding=1),\n",
    "            nn.BatchNorm2d(512),\n",
    "            nn.ReLU()) # b_s x 256 x 64 x 64 -> b_s x 512 x 64 x 64\n",
    "        \n",
    "        self.layer8 = nn.Sequential(\n",
    "            nn.Conv2d(512, 512, kernel_size=3, stride=1, padding=1),\n",
    "            nn.BatchNorm2d(512),\n",
    "            nn.ReLU(),\n",
    "            nn.MaxPool2d(kernel_size = 2, stride = 2)) # b_s x 512 x 64 x 64 -> b_s x 512 x 32 x 32\n",
    "        \n",
    "        self.layer9 = nn.Sequential(\n",
    "            nn.Conv2d(512, 512, kernel_size=3, stride=1, padding=1),\n",
    "            nn.BatchNorm2d(512),\n",
    "            nn.ReLU(),\n",
    "            nn.MaxPool2d(kernel_size = 2, stride = 2)) # b_s x 512 x 32 x 32 -> b_s x 512 x 16 x 16\n",
    "        \n",
    "        self.layer10 = nn.Sequential(\n",
    "            nn.Conv2d(512, 1024, kernel_size=3, stride=1, padding=1),\n",
    "            nn.BatchNorm2d(1024),\n",
    "            nn.ReLU(),\n",
    "            nn.MaxPool2d(kernel_size = 2, stride = 2)) # b_s x 512 x 16 x 16 -> b_s x 1024 x 8 x 8\n",
    "\n",
    "        self.layer11 = nn.Sequential(\n",
    "            nn.Conv2d(1024, 1024, kernel_size=3, stride=1, padding=1),\n",
    "            nn.BatchNorm2d(1024),\n",
    "            nn.ReLU(),\n",
    "            nn.MaxPool2d(kernel_size = 2, stride = 2)) # b_s x 1024 x 8 x 8 -> b_s x 1024 x 4 x 4\n",
    "        \n",
    "        self.layer12 = nn.Sequential(\n",
    "            nn.Conv2d(1024, 1024, kernel_size=4, stride=1, padding=0)) # b_s x 1024 x 4 x 4 -> b_s x 1024 x 1 x 1\n",
    "        \n",
    "        self.fc1 = nn.Sequential(\n",
    "            nn.Dropout(0.5),\n",
    "            nn.Linear(1024, 1024),\n",
    "            nn.ReLU())\n",
    "        \n",
    "        self.fc2= nn.Linear(1024, num_classes)\n",
    "        \n",
    "    def forward(self, x):\n",
    "        out = self.layer1(x)\n",
    "        out = self.layer2(out)\n",
    "        out = self.layer3(out)\n",
    "        out = self.layer4(out)\n",
    "        out = self.layer5(out)\n",
    "        out = self.layer6(out)\n",
    "        out = self.layer7(out)\n",
    "        out = self.layer8(out)\n",
    "        out = self.layer9(out)\n",
    "        out = self.layer10(out)\n",
    "        out = self.layer11(out)\n",
    "        out = self.layer12(out)\n",
    "        out = out.reshape(out.size(0), -1)\n",
    "        out = self.fc1(out)\n",
    "        out = self.fc2(out)\n",
    "        return out"
   ]
  },
  {
   "cell_type": "code",
   "execution_count": 4,
   "id": "8294759f",
   "metadata": {
    "id": "cdewwjkxlxoa"
   },
   "outputs": [],
   "source": [
    "def weights_init_uniform(m):\n",
    "    classname = m.__class__.__name__\n",
    "    if classname.find('Linear') != -1:\n",
    "        torch.nn.init.xavier_uniform_(m.weight)\n",
    "        m.bias.data.fill_(0.01)"
   ]
  },
  {
   "cell_type": "markdown",
   "id": "ff55e388",
   "metadata": {
    "id": "eDXfiThNu7bV"
   },
   "source": [
    "### Augmentations\n",
    "Я выбрала такие аугментации, чтобы модель была устойчива к поворотам и сдвигам объектов, а также к разной яркости и контрастности изображений."
   ]
  },
  {
   "cell_type": "code",
   "execution_count": 5,
   "id": "e076e13b",
   "metadata": {
    "id": "X156qoC3u0mC"
   },
   "outputs": [],
   "source": [
    "train_transform = A.Compose([\n",
    "    A.Resize(512,512),\n",
    "    A.ShiftScaleRotate(shift_limit=0.05, scale_limit=0.05, rotate_limit=15, p=0.5),\n",
    "    A.RandomBrightnessContrast(p=0.5),\n",
    "    A.Normalize(mean=(0.485, 0.456, 0.406), std=(0.229, 0.224, 0.225)),\n",
    "    ToTensorV2(),\n",
    "    ])\n",
    "\n",
    "val_transform = A.Compose([\n",
    "    A.Resize(512,512),\n",
    "    A.Normalize(mean=(0.485, 0.456, 0.406), std=(0.229, 0.224, 0.225)),\n",
    "    ToTensorV2(),\n",
    "    ])"
   ]
  },
  {
   "cell_type": "markdown",
   "id": "25c02724",
   "metadata": {
    "id": "fb4a6ca6"
   },
   "source": [
    "### Dataset"
   ]
  },
  {
   "cell_type": "code",
   "execution_count": 5,
   "id": "d03c9d73",
   "metadata": {
    "id": "PvDVivU0h9Oi"
   },
   "outputs": [],
   "source": [
    "# !unzip 'monkeys.zip'"
   ]
  },
  {
   "cell_type": "code",
   "execution_count": 6,
   "id": "d38420e1",
   "metadata": {
    "id": "Oo3phk5I2ZMA"
   },
   "outputs": [],
   "source": [
    "def get_imgs_filepaths(main_folder):\n",
    "    paths = []\n",
    "    for i in range(10):\n",
    "        folder = os.path.join(main_folder, 'n'+str(i)+'/')\n",
    "        listOfFiles = os.listdir(folder) \n",
    "        img_pattern = '*.jpg'\n",
    "        for entry in listOfFiles:\n",
    "            if fnmatch.fnmatch(entry, img_pattern):\n",
    "                paths.append(os.path.join(folder, entry))\n",
    "    return paths\n",
    "\n",
    "train_folder = './training/training/'\n",
    "val_folder = './validation/validation/'\n",
    "\n",
    "train_paths = get_imgs_filepaths(train_folder)\n",
    "val_paths = get_imgs_filepaths(val_folder)"
   ]
  },
  {
   "cell_type": "code",
   "execution_count": 7,
   "id": "07b5f1fb",
   "metadata": {
    "id": "JBDpuE1i1vkv"
   },
   "outputs": [],
   "source": [
    "class MonkeysDataset(Dataset):\n",
    "    def __init__(self, images_filepaths, transform=None):\n",
    "        self.images_filepaths = images_filepaths\n",
    "        self.transform = transform\n",
    "\n",
    "    def __len__(self):\n",
    "        return len(self.images_filepaths)\n",
    "\n",
    "    def __getitem__(self, idx):\n",
    "        image_filepath = self.images_filepaths[idx]\n",
    "        image = cv2.imread(image_filepath)\n",
    "        image = cv2.cvtColor(image, cv2.COLOR_BGR2RGB)\n",
    "        label = float(self.images_filepaths[idx].split('/')[3][1])\n",
    "        if self.transform is not None:\n",
    "            image = self.transform(image=image)[\"image\"]\n",
    "        return image, label"
   ]
  },
  {
   "cell_type": "code",
   "execution_count": 8,
   "id": "a400efc9",
   "metadata": {
    "id": "Oy_LVzF955Tp"
   },
   "outputs": [],
   "source": [
    "train_dataset = MonkeysDataset(train_paths, train_transform)\n",
    "val_dataset = MonkeysDataset(val_paths, val_transform)"
   ]
  },
  {
   "cell_type": "markdown",
   "id": "6edcffe4",
   "metadata": {
    "id": "ep4reQDZ2mLA"
   },
   "source": [
    "### Check number of classes and samples"
   ]
  },
  {
   "cell_type": "code",
   "execution_count": 10,
   "id": "e8592770",
   "metadata": {
    "id": "Oldylrm8hNTC"
   },
   "outputs": [],
   "source": [
    "PATH_train = './training/training'\n",
    "PATH_val = './validation/validation'\n",
    "\n",
    "train_ds = ImageFolder('./training/training/',transform=train_transform)\n",
    "test_ds = ImageFolder('./validation/validation/',transform=val_transform)"
   ]
  },
  {
   "cell_type": "code",
   "execution_count": 11,
   "id": "f3e0111c",
   "metadata": {
    "colab": {
     "base_uri": "https://localhost:8080/"
    },
    "id": "gjyzbYU8icy7",
    "outputId": "eda1776b-2995-4125-d8a4-bfb82b053470"
   },
   "outputs": [
    {
     "name": "stdout",
     "output_type": "stream",
     "text": [
      "Counter({3: 122, 7: 114, 5: 113, 1: 111, 2: 110, 6: 106, 8: 106, 0: 105, 4: 105, 9: 105})\n",
      "Counter({3: 30, 1: 28, 5: 28, 7: 28, 2: 27, 8: 27, 0: 26, 4: 26, 6: 26, 9: 26})\n"
     ]
    }
   ],
   "source": [
    "train_cnt = Counter(train_ds.targets)\n",
    "test_cnt = Counter(test_ds.targets)\n",
    "print(train_cnt)\n",
    "print(test_cnt)"
   ]
  },
  {
   "cell_type": "markdown",
   "id": "b6509ee0",
   "metadata": {
    "id": "dd827c83"
   },
   "source": [
    "### Dataloader"
   ]
  },
  {
   "cell_type": "code",
   "execution_count": 9,
   "id": "f7e7b33e",
   "metadata": {
    "id": "XNTtrTWCfYKk"
   },
   "outputs": [],
   "source": [
    "train_dataloader = DataLoader(train_dataset, batch_size=8, shuffle=True, num_workers=2)\n",
    "val_dataloader = DataLoader(val_dataset, batch_size=8, shuffle=False, num_workers=2)"
   ]
  },
  {
   "cell_type": "code",
   "execution_count": 11,
   "id": "3f4e20f5",
   "metadata": {
    "id": "pv7lvP0GzFTw"
   },
   "outputs": [],
   "source": [
    "def visualize_augmentations(dataset, idx=0, samples=10, cols=5):\n",
    "    dataset = copy.deepcopy(dataset)\n",
    "    dataset.transform = train_transform = A.Compose([ A.Resize(224,224),\n",
    "                                                      A.ShiftScaleRotate(shift_limit=0.2, scale_limit=0.2, rotate_limit=45, p=0.5),\n",
    "                                                      A.RandomBrightnessContrast(p=0.5),\n",
    "                                                    ])\n",
    "    rows = samples // cols\n",
    "    figure, ax = plt.subplots(nrows=rows, ncols=cols, figsize=(12, 6))\n",
    "    for i in range(samples):\n",
    "        image, _ = dataset[idx]\n",
    "        ax.ravel()[i].imshow(image)\n",
    "        ax.ravel()[i].set_axis_off()\n",
    "    plt.tight_layout()\n",
    "    plt.show()"
   ]
  },
  {
   "cell_type": "code",
   "execution_count": 14,
   "id": "bf595ec7",
   "metadata": {
    "colab": {
     "base_uri": "https://localhost:8080/",
     "height": 513
    },
    "id": "Kvlsoqs4zbuY",
    "outputId": "7d6d663e-fcaf-4790-d0e5-c4fdbda5a934"
   },
   "outputs": [
    {
     "data": {
      "image/png": "[encoded data removed]",
      "text/plain": [
       "<Figure size 864x432 with 10 Axes>"
      ]
     },
     "metadata": {
      "needs_background": "light"
     },
     "output_type": "display_data"
    }
   ],
   "source": [
    "random.seed(42)\n",
    "visualize_augmentations(train_dataset)"
   ]
  },
  {
   "cell_type": "markdown",
   "id": "289da7ab",
   "metadata": {
    "id": "b5fa3ed5"
   },
   "source": [
    "### Train\n",
    "Выберем, что хотим сохранять в истории обучения: \n",
    "\n",
    "\n",
    "*   loss для обеих выборок (train, val)\n",
    "*   accuracy \n",
    "*   F1-score + weighted agerage по классам\n",
    "\n",
    "каждые every_epoch эпох\n",
    "\n"
   ]
  },
  {
   "cell_type": "code",
   "execution_count": 10,
   "id": "14aa1aed",
   "metadata": {
    "colab": {
     "base_uri": "https://localhost:8080/"
    },
    "id": "SaGjgzfkVdSV",
    "outputId": "1442eb2c-d7d1-4937-f876-88e0545b1081"
   },
   "outputs": [
    {
     "name": "stdout",
     "output_type": "stream",
     "text": [
      "cuda:0\n"
     ]
    }
   ],
   "source": [
    "device = torch.device(\"cuda:0\" if torch.cuda.is_available() else \"cpu\")\n",
    "print(device)"
   ]
  },
  {
   "cell_type": "code",
   "execution_count": 11,
   "id": "daa7e4f8",
   "metadata": {
    "id": "MB6vH0dWdj7y"
   },
   "outputs": [],
   "source": [
    "def count_accuracy(true, pred):\n",
    "    pred = torch.argmax(pred, dim=1).cpu().detach().numpy()\n",
    "    true = true.cpu().detach().numpy()\n",
    "    return accuracy_score(true, pred)\n",
    "\n",
    "def count_f1(true, pred):\n",
    "    pred = torch.argmax(pred, dim=1).cpu().detach().numpy()\n",
    "    true = true.cpu().detach().numpy()\n",
    "    return f1_score(true, pred, average='weighted')"
   ]
  },
  {
   "cell_type": "code",
   "execution_count": 12,
   "id": "301bebcc",
   "metadata": {
    "id": "LPE2wVEgyQ5W"
   },
   "outputs": [],
   "source": [
    "def train_model(model, weights_folder, optimizer, loss_func, scheduler, num_epochs=40, every_epoch=5):\n",
    "    \n",
    "    train_history = {\n",
    "        'loss': [],\n",
    "        'accuracy': [],\n",
    "        'f1': []\n",
    "    }\n",
    "    val_history = {\n",
    "        'loss': [],\n",
    "        'accuracy': [],\n",
    "        'f1': []\n",
    "    }\n",
    "\n",
    "    best_model_wts = copy.deepcopy(model.state_dict())\n",
    "    best_f1 = 0\n",
    "\n",
    "    for epoch in range(1, num_epochs + 1):\n",
    "        print('Epoch {}/{}'.format(epoch, num_epochs))\n",
    "        print('-' * 10)\n",
    "        \n",
    "        # TRAIN\n",
    "        print(\"PHASE: TRAIN\")\n",
    "        scheduler.step()\n",
    "        for param_group in optimizer.param_groups:\n",
    "            print(\"LR\", param_group['lr'])\n",
    "\n",
    "        epoch_loss = 0\n",
    "        epoch_accuracy = 0\n",
    "        epoch_f1 = 0\n",
    "\n",
    "        model.train()  # Set model to training mode\n",
    "\n",
    "        for inputs, labels in tqdm(train_dataloader):\n",
    "            inputs = inputs.float() \n",
    "            inputs = inputs.to(device)\n",
    "            labels = labels.type(torch.LongTensor)\n",
    "            labels = labels.to(device)\n",
    "\n",
    "            # zero the parameter gradients\n",
    "            optimizer.zero_grad()\n",
    "\n",
    "            # forward\n",
    "            outputs = model(inputs)\n",
    "            loss = loss_func(outputs, labels)\n",
    "            accuracy = count_accuracy(labels, outputs)\n",
    "            f1 = count_f1(labels, outputs)\n",
    "\n",
    "            loss.backward()\n",
    "            optimizer.step()\n",
    "\n",
    "            epoch_loss += loss.cpu().item()\n",
    "            epoch_accuracy += accuracy\n",
    "            epoch_f1 += f1\n",
    "\n",
    "        if epoch % every_epoch == 0:\n",
    "            epoch_loss /= len(train_dataloader)\n",
    "            epoch_accuracy /= len(train_dataloader)\n",
    "            epoch_f1 /= len(train_dataloader)\n",
    "            train_history['loss'].append(epoch_loss)\n",
    "            train_history['accuracy'].append(epoch_accuracy)\n",
    "            train_history['f1'].append(epoch_f1)\n",
    "            print(\"train_loss: \", epoch_loss)\n",
    "            print(\"train_accuracy: \", epoch_accuracy)\n",
    "            print(\"train_f1: \", epoch_f1)\n",
    "            print(\"---------------------------\")\n",
    "        \n",
    "        # VAL\n",
    "        print(\"PHASE: VAL\")\n",
    "        model.eval()\n",
    "        epoch_loss = 0\n",
    "        epoch_accuracy = 0\n",
    "        epoch_f1 = 0\n",
    "        \n",
    "        for inputs, labels in tqdm(val_dataloader):\n",
    "            inputs=inputs.float() \n",
    "            inputs = inputs.to(device)\n",
    "            labels = labels.type(torch.LongTensor)\n",
    "            labels = labels.to(device)\n",
    "            \n",
    "            with torch.no_grad():\n",
    "                outputs = model(inputs)\n",
    "            \n",
    "            loss = loss_func(outputs, labels)\n",
    "            accuracy = count_accuracy(labels, outputs)\n",
    "            f1 = count_f1(labels, outputs)\n",
    "\n",
    "            epoch_loss += loss.cpu().item()\n",
    "            epoch_accuracy += accuracy\n",
    "            epoch_f1 += f1\n",
    "        \n",
    "        if epoch % every_epoch == 0:\n",
    "            epoch_loss /= len(val_dataloader)\n",
    "            epoch_accuracy /= len(val_dataloader)\n",
    "            epoch_f1 /= len(val_dataloader)\n",
    "            val_history['loss'].append(epoch_loss)\n",
    "            val_history['accuracy'].append(epoch_accuracy)\n",
    "            val_history['f1'].append(epoch_f1)\n",
    "            print(\"val_loss: \", epoch_loss)\n",
    "            print(\"val_accuracy: \", epoch_accuracy)\n",
    "            print(\"val_f1: \", epoch_f1)\n",
    "            print(\"---------------------------\")\n",
    "            \n",
    "            if epoch_f1 > best_f1:\n",
    "                best_model_wts = copy.deepcopy(model.state_dict())\n",
    "                torch.save(best_model_wts, os.path.join(weights_folder, 'best_weights_'+str(epoch)+'.pkl'))   \n",
    "                best_f1 = epoch_f1\n",
    "        \n",
    "    # load best model weights\n",
    "    model.load_state_dict(best_model_wts)\n",
    "    return model, train_history, val_history"
   ]
  },
  {
   "cell_type": "code",
   "execution_count": 16,
   "id": "9e4be190",
   "metadata": {
    "colab": {
     "base_uri": "https://localhost:8080/"
    },
    "id": "9e_FxdQckQ42",
    "outputId": "fc110673-5237-4e02-f7e3-f2b369d5cb56"
   },
   "outputs": [],
   "source": [
    "model = VGG16()\n",
    "model.apply(weights_init_uniform)\n",
    "\n",
    "model.to(device)\n",
    "None"
   ]
  },
  {
   "cell_type": "code",
   "execution_count": 17,
   "id": "dcaa5b9e",
   "metadata": {
    "colab": {
     "base_uri": "https://localhost:8080/"
    },
    "id": "monZ2DXHThmj",
    "outputId": "b76c08a7-326f-41eb-bc62-dd40e1b083cf"
   },
   "outputs": [
    {
     "name": "stderr",
     "output_type": "stream",
     "text": [
      "/home/user/conda/lib/python3.7/site-packages/torch/optim/lr_scheduler.py:143: UserWarning: Detected call of `lr_scheduler.step()` before `optimizer.step()`. In PyTorch 1.1.0 and later, you should call them in the opposite order: `optimizer.step()` before `lr_scheduler.step()`.  Failure to do this will result in PyTorch skipping the first value of the learning rate schedule. See more details at https://pytorch.org/docs/stable/optim.html#how-to-adjust-learning-rate\n",
      "  \"https://pytorch.org/docs/stable/optim.html#how-to-adjust-learning-rate\", UserWarning)\n"
     ]
    },
    {
     "name": "stdout",
     "output_type": "stream",
     "text": [
      "Epoch 1/60\n",
      "----------\n",
      "PHASE: TRAIN\n",
      "LR 1e-05\n"
     ]
    },
    {
     "name": "stderr",
     "output_type": "stream",
     "text": [
      "100%|██████████| 137/137 [00:15<00:00,  8.61it/s]\n"
     ]
    },
    {
     "name": "stdout",
     "output_type": "stream",
     "text": [
      "PHASE: VAL\n"
     ]
    },
    {
     "name": "stderr",
     "output_type": "stream",
     "text": [
      "100%|██████████| 34/34 [00:04<00:00,  7.82it/s]\n"
     ]
    },
    {
     "name": "stdout",
     "output_type": "stream",
     "text": [
      "Epoch 2/60\n",
      "----------\n",
      "PHASE: TRAIN\n",
      "LR 1e-05\n"
     ]
    },
    {
     "name": "stderr",
     "output_type": "stream",
     "text": [
      "100%|██████████| 137/137 [00:16<00:00,  8.35it/s]\n"
     ]
    },
    {
     "name": "stdout",
     "output_type": "stream",
     "text": [
      "train_loss:  1.6213297186976803\n",
      "train_accuracy:  0.4562043795620438\n",
      "train_f1:  0.44280500521376454\n",
      "---------------------------\n",
      "PHASE: VAL\n"
     ]
    },
    {
     "name": "stderr",
     "output_type": "stream",
     "text": [
      "100%|██████████| 34/34 [00:04<00:00,  7.76it/s]\n"
     ]
    },
    {
     "name": "stdout",
     "output_type": "stream",
     "text": [
      "val_loss:  1.3958075896782034\n",
      "val_accuracy:  0.5220588235294118\n",
      "val_f1:  0.6172690259087318\n",
      "---------------------------\n",
      "Epoch 3/60\n",
      "----------\n",
      "PHASE: TRAIN\n",
      "LR 1e-05\n"
     ]
    },
    {
     "name": "stderr",
     "output_type": "stream",
     "text": [
      "100%|██████████| 137/137 [00:16<00:00,  8.48it/s]\n"
     ]
    },
    {
     "name": "stdout",
     "output_type": "stream",
     "text": [
      "PHASE: VAL\n"
     ]
    },
    {
     "name": "stderr",
     "output_type": "stream",
     "text": [
      "100%|██████████| 34/34 [00:04<00:00,  8.15it/s]\n"
     ]
    },
    {
     "name": "stdout",
     "output_type": "stream",
     "text": [
      "Epoch 4/60\n",
      "----------\n",
      "PHASE: TRAIN\n",
      "LR 1e-05\n"
     ]
    },
    {
     "name": "stderr",
     "output_type": "stream",
     "text": [
      "100%|██████████| 137/137 [00:16<00:00,  8.50it/s]\n"
     ]
    },
    {
     "name": "stdout",
     "output_type": "stream",
     "text": [
      "train_loss:  1.2218439772616339\n",
      "train_accuracy:  0.5958029197080292\n",
      "train_f1:  0.598757386166145\n",
      "---------------------------\n",
      "PHASE: VAL\n"
     ]
    },
    {
     "name": "stderr",
     "output_type": "stream",
     "text": [
      "100%|██████████| 34/34 [00:04<00:00,  7.89it/s]\n"
     ]
    },
    {
     "name": "stdout",
     "output_type": "stream",
     "text": [
      "val_loss:  1.0225912899819805\n",
      "val_accuracy:  0.6139705882352942\n",
      "val_f1:  0.7228354978354979\n",
      "---------------------------\n",
      "Epoch 5/60\n",
      "----------\n",
      "PHASE: TRAIN\n",
      "LR 1e-05\n"
     ]
    },
    {
     "name": "stderr",
     "output_type": "stream",
     "text": [
      "100%|██████████| 137/137 [00:15<00:00,  8.60it/s]\n"
     ]
    },
    {
     "name": "stdout",
     "output_type": "stream",
     "text": [
      "PHASE: VAL\n"
     ]
    },
    {
     "name": "stderr",
     "output_type": "stream",
     "text": [
      "100%|██████████| 34/34 [00:04<00:00,  7.91it/s]\n"
     ]
    },
    {
     "name": "stdout",
     "output_type": "stream",
     "text": [
      "Epoch 6/60\n",
      "----------\n",
      "PHASE: TRAIN\n",
      "LR 1e-05\n"
     ]
    },
    {
     "name": "stderr",
     "output_type": "stream",
     "text": [
      "100%|██████████| 137/137 [00:16<00:00,  8.42it/s]\n"
     ]
    },
    {
     "name": "stdout",
     "output_type": "stream",
     "text": [
      "train_loss:  0.9829645872551159\n",
      "train_accuracy:  0.6624087591240876\n",
      "train_f1:  0.6694169273548836\n",
      "---------------------------\n",
      "PHASE: VAL\n"
     ]
    },
    {
     "name": "stderr",
     "output_type": "stream",
     "text": [
      "100%|██████████| 34/34 [00:04<00:00,  7.96it/s]\n"
     ]
    },
    {
     "name": "stdout",
     "output_type": "stream",
     "text": [
      "val_loss:  0.9218488440794104\n",
      "val_accuracy:  0.6985294117647058\n",
      "val_f1:  0.7792326954091662\n",
      "---------------------------\n",
      "Epoch 7/60\n",
      "----------\n",
      "PHASE: TRAIN\n",
      "LR 1e-05\n"
     ]
    },
    {
     "name": "stderr",
     "output_type": "stream",
     "text": [
      "100%|██████████| 137/137 [00:16<00:00,  8.48it/s]\n"
     ]
    },
    {
     "name": "stdout",
     "output_type": "stream",
     "text": [
      "PHASE: VAL\n"
     ]
    },
    {
     "name": "stderr",
     "output_type": "stream",
     "text": [
      "100%|██████████| 34/34 [00:04<00:00,  7.74it/s]\n"
     ]
    },
    {
     "name": "stdout",
     "output_type": "stream",
     "text": [
      "Epoch 8/60\n",
      "----------\n",
      "PHASE: TRAIN\n",
      "LR 1e-05\n"
     ]
    },
    {
     "name": "stderr",
     "output_type": "stream",
     "text": [
      "100%|██████████| 137/137 [00:16<00:00,  8.51it/s]\n"
     ]
    },
    {
     "name": "stdout",
     "output_type": "stream",
     "text": [
      "train_loss:  0.8404792917035792\n",
      "train_accuracy:  0.7235401459854015\n",
      "train_f1:  0.7299878345498784\n",
      "---------------------------\n",
      "PHASE: VAL\n"
     ]
    },
    {
     "name": "stderr",
     "output_type": "stream",
     "text": [
      "100%|██████████| 34/34 [00:04<00:00,  7.90it/s]\n"
     ]
    },
    {
     "name": "stdout",
     "output_type": "stream",
     "text": [
      "val_loss:  0.7268985352369354\n",
      "val_accuracy:  0.7536764705882353\n",
      "val_f1:  0.8459243575052402\n",
      "---------------------------\n",
      "Epoch 9/60\n",
      "----------\n",
      "PHASE: TRAIN\n",
      "LR 1e-05\n"
     ]
    },
    {
     "name": "stderr",
     "output_type": "stream",
     "text": [
      "100%|██████████| 137/137 [00:16<00:00,  8.52it/s]\n"
     ]
    },
    {
     "name": "stdout",
     "output_type": "stream",
     "text": [
      "PHASE: VAL\n"
     ]
    },
    {
     "name": "stderr",
     "output_type": "stream",
     "text": [
      "100%|██████████| 34/34 [00:04<00:00,  7.79it/s]\n"
     ]
    },
    {
     "name": "stdout",
     "output_type": "stream",
     "text": [
      "Epoch 10/60\n",
      "----------\n",
      "PHASE: TRAIN\n",
      "LR 5e-06\n"
     ]
    },
    {
     "name": "stderr",
     "output_type": "stream",
     "text": [
      "100%|██████████| 137/137 [00:16<00:00,  8.48it/s]\n"
     ]
    },
    {
     "name": "stdout",
     "output_type": "stream",
     "text": [
      "train_loss:  0.5820095513532632\n",
      "train_accuracy:  0.7883211678832117\n",
      "train_f1:  0.7913429787973584\n",
      "---------------------------\n",
      "PHASE: VAL\n"
     ]
    },
    {
     "name": "stderr",
     "output_type": "stream",
     "text": [
      "100%|██████████| 34/34 [00:04<00:00,  7.97it/s]\n"
     ]
    },
    {
     "name": "stdout",
     "output_type": "stream",
     "text": [
      "val_loss:  0.653319013551535\n",
      "val_accuracy:  0.7904411764705882\n",
      "val_f1:  0.8676002510561336\n",
      "---------------------------\n",
      "Epoch 11/60\n",
      "----------\n",
      "PHASE: TRAIN\n",
      "LR 5e-06\n"
     ]
    },
    {
     "name": "stderr",
     "output_type": "stream",
     "text": [
      "100%|██████████| 137/137 [00:15<00:00,  8.77it/s]\n"
     ]
    },
    {
     "name": "stdout",
     "output_type": "stream",
     "text": [
      "PHASE: VAL\n"
     ]
    },
    {
     "name": "stderr",
     "output_type": "stream",
     "text": [
      "100%|██████████| 34/34 [00:04<00:00,  8.05it/s]\n"
     ]
    },
    {
     "name": "stdout",
     "output_type": "stream",
     "text": [
      "Epoch 12/60\n",
      "----------\n",
      "PHASE: TRAIN\n",
      "LR 5e-06\n"
     ]
    },
    {
     "name": "stderr",
     "output_type": "stream",
     "text": [
      "100%|██████████| 137/137 [00:16<00:00,  8.54it/s]\n"
     ]
    },
    {
     "name": "stdout",
     "output_type": "stream",
     "text": [
      "train_loss:  0.48460102244450226\n",
      "train_accuracy:  0.8266423357664233\n",
      "train_f1:  0.8372393117831075\n",
      "---------------------------\n",
      "PHASE: VAL\n"
     ]
    },
    {
     "name": "stderr",
     "output_type": "stream",
     "text": [
      "100%|██████████| 34/34 [00:04<00:00,  8.04it/s]\n"
     ]
    },
    {
     "name": "stdout",
     "output_type": "stream",
     "text": [
      "val_loss:  0.6440900694613125\n",
      "val_accuracy:  0.8051470588235294\n",
      "val_f1:  0.8768969184410362\n",
      "---------------------------\n",
      "Epoch 13/60\n",
      "----------\n",
      "PHASE: TRAIN\n",
      "LR 5e-06\n"
     ]
    },
    {
     "name": "stderr",
     "output_type": "stream",
     "text": [
      "100%|██████████| 137/137 [00:15<00:00,  8.75it/s]\n"
     ]
    },
    {
     "name": "stdout",
     "output_type": "stream",
     "text": [
      "PHASE: VAL\n"
     ]
    },
    {
     "name": "stderr",
     "output_type": "stream",
     "text": [
      "100%|██████████| 34/34 [00:04<00:00,  8.17it/s]\n"
     ]
    },
    {
     "name": "stdout",
     "output_type": "stream",
     "text": [
      "Epoch 14/60\n",
      "----------\n",
      "PHASE: TRAIN\n",
      "LR 5e-06\n"
     ]
    },
    {
     "name": "stderr",
     "output_type": "stream",
     "text": [
      "100%|██████████| 137/137 [00:15<00:00,  8.64it/s]\n"
     ]
    },
    {
     "name": "stdout",
     "output_type": "stream",
     "text": [
      "train_loss:  0.4264888905369452\n",
      "train_accuracy:  0.843978102189781\n",
      "train_f1:  0.8505735140771635\n",
      "---------------------------\n",
      "PHASE: VAL\n"
     ]
    },
    {
     "name": "stderr",
     "output_type": "stream",
     "text": [
      "100%|██████████| 34/34 [00:04<00:00,  8.31it/s]\n"
     ]
    },
    {
     "name": "stdout",
     "output_type": "stream",
     "text": [
      "val_loss:  0.6451697973089348\n",
      "val_accuracy:  0.7977941176470589\n",
      "val_f1:  0.8708679392502924\n",
      "---------------------------\n",
      "Epoch 15/60\n",
      "----------\n",
      "PHASE: TRAIN\n",
      "LR 5e-06\n"
     ]
    },
    {
     "name": "stderr",
     "output_type": "stream",
     "text": [
      "100%|██████████| 137/137 [00:16<00:00,  8.37it/s]\n"
     ]
    },
    {
     "name": "stdout",
     "output_type": "stream",
     "text": [
      "PHASE: VAL\n"
     ]
    },
    {
     "name": "stderr",
     "output_type": "stream",
     "text": [
      "100%|██████████| 34/34 [00:04<00:00,  7.84it/s]\n"
     ]
    },
    {
     "name": "stdout",
     "output_type": "stream",
     "text": [
      "Epoch 16/60\n",
      "----------\n",
      "PHASE: TRAIN\n",
      "LR 5e-06\n"
     ]
    },
    {
     "name": "stderr",
     "output_type": "stream",
     "text": [
      "100%|██████████| 137/137 [00:15<00:00,  8.62it/s]\n"
     ]
    },
    {
     "name": "stdout",
     "output_type": "stream",
     "text": [
      "train_loss:  0.35446412794727045\n",
      "train_accuracy:  0.885036496350365\n",
      "train_f1:  0.8950186826555443\n",
      "---------------------------\n",
      "PHASE: VAL\n"
     ]
    },
    {
     "name": "stderr",
     "output_type": "stream",
     "text": [
      "100%|██████████| 34/34 [00:04<00:00,  7.79it/s]\n"
     ]
    },
    {
     "name": "stdout",
     "output_type": "stream",
     "text": [
      "val_loss:  0.5794692311028484\n",
      "val_accuracy:  0.8088235294117647\n",
      "val_f1:  0.879586263409793\n",
      "---------------------------\n",
      "Epoch 17/60\n",
      "----------\n",
      "PHASE: TRAIN\n",
      "LR 5e-06\n"
     ]
    },
    {
     "name": "stderr",
     "output_type": "stream",
     "text": [
      "100%|██████████| 137/137 [00:17<00:00,  8.04it/s]\n"
     ]
    },
    {
     "name": "stdout",
     "output_type": "stream",
     "text": [
      "PHASE: VAL\n"
     ]
    },
    {
     "name": "stderr",
     "output_type": "stream",
     "text": [
      "100%|██████████| 34/34 [00:04<00:00,  7.95it/s]\n"
     ]
    },
    {
     "name": "stdout",
     "output_type": "stream",
     "text": [
      "Epoch 18/60\n",
      "----------\n",
      "PHASE: TRAIN\n",
      "LR 5e-06\n"
     ]
    },
    {
     "name": "stderr",
     "output_type": "stream",
     "text": [
      "100%|██████████| 137/137 [00:16<00:00,  8.31it/s]\n"
     ]
    },
    {
     "name": "stdout",
     "output_type": "stream",
     "text": [
      "train_loss:  0.34731305155386455\n",
      "train_accuracy:  0.8905109489051095\n",
      "train_f1:  0.8941721700845792\n",
      "---------------------------\n",
      "PHASE: VAL\n"
     ]
    },
    {
     "name": "stderr",
     "output_type": "stream",
     "text": [
      "100%|██████████| 34/34 [00:04<00:00,  8.33it/s]\n"
     ]
    },
    {
     "name": "stdout",
     "output_type": "stream",
     "text": [
      "val_loss:  0.6454095436929492\n",
      "val_accuracy:  0.7830882352941176\n",
      "val_f1:  0.8639174959027902\n",
      "---------------------------\n",
      "Epoch 19/60\n",
      "----------\n",
      "PHASE: TRAIN\n",
      "LR 5e-06\n"
     ]
    },
    {
     "name": "stderr",
     "output_type": "stream",
     "text": [
      "100%|██████████| 137/137 [00:16<00:00,  8.45it/s]\n"
     ]
    },
    {
     "name": "stdout",
     "output_type": "stream",
     "text": [
      "PHASE: VAL\n"
     ]
    },
    {
     "name": "stderr",
     "output_type": "stream",
     "text": [
      "100%|██████████| 34/34 [00:04<00:00,  7.98it/s]\n"
     ]
    },
    {
     "name": "stdout",
     "output_type": "stream",
     "text": [
      "Epoch 20/60\n",
      "----------\n",
      "PHASE: TRAIN\n",
      "LR 2.5e-06\n"
     ]
    },
    {
     "name": "stderr",
     "output_type": "stream",
     "text": [
      "100%|██████████| 137/137 [00:15<00:00,  8.66it/s]\n"
     ]
    },
    {
     "name": "stdout",
     "output_type": "stream",
     "text": [
      "train_loss:  0.25992741460238933\n",
      "train_accuracy:  0.916058394160584\n",
      "train_f1:  0.9257871335882287\n",
      "---------------------------\n",
      "PHASE: VAL\n"
     ]
    },
    {
     "name": "stderr",
     "output_type": "stream",
     "text": [
      "100%|██████████| 34/34 [00:04<00:00,  8.12it/s]\n"
     ]
    },
    {
     "name": "stdout",
     "output_type": "stream",
     "text": [
      "val_loss:  0.5510608232032288\n",
      "val_accuracy:  0.8088235294117647\n",
      "val_f1:  0.8815708392914277\n",
      "---------------------------\n",
      "Epoch 21/60\n",
      "----------\n",
      "PHASE: TRAIN\n",
      "LR 2.5e-06\n"
     ]
    },
    {
     "name": "stderr",
     "output_type": "stream",
     "text": [
      "100%|██████████| 137/137 [00:15<00:00,  8.76it/s]\n"
     ]
    },
    {
     "name": "stdout",
     "output_type": "stream",
     "text": [
      "PHASE: VAL\n"
     ]
    },
    {
     "name": "stderr",
     "output_type": "stream",
     "text": [
      "100%|██████████| 34/34 [00:04<00:00,  7.94it/s]\n"
     ]
    },
    {
     "name": "stdout",
     "output_type": "stream",
     "text": [
      "Epoch 22/60\n",
      "----------\n",
      "PHASE: TRAIN\n",
      "LR 2.5e-06\n"
     ]
    },
    {
     "name": "stderr",
     "output_type": "stream",
     "text": [
      "100%|██████████| 137/137 [00:15<00:00,  8.66it/s]\n"
     ]
    },
    {
     "name": "stdout",
     "output_type": "stream",
     "text": [
      "train_loss:  0.21048622201774678\n",
      "train_accuracy:  0.9297445255474452\n",
      "train_f1:  0.9329292665971499\n",
      "---------------------------\n",
      "PHASE: VAL\n"
     ]
    },
    {
     "name": "stderr",
     "output_type": "stream",
     "text": [
      "100%|██████████| 34/34 [00:04<00:00,  7.99it/s]\n"
     ]
    },
    {
     "name": "stdout",
     "output_type": "stream",
     "text": [
      "val_loss:  0.6066518742749502\n",
      "val_accuracy:  0.8051470588235294\n",
      "val_f1:  0.8784762622997918\n",
      "---------------------------\n",
      "Epoch 23/60\n",
      "----------\n",
      "PHASE: TRAIN\n",
      "LR 2.5e-06\n"
     ]
    },
    {
     "name": "stderr",
     "output_type": "stream",
     "text": [
      "100%|██████████| 137/137 [00:16<00:00,  8.50it/s]\n"
     ]
    },
    {
     "name": "stdout",
     "output_type": "stream",
     "text": [
      "PHASE: VAL\n"
     ]
    },
    {
     "name": "stderr",
     "output_type": "stream",
     "text": [
      "100%|██████████| 34/34 [00:04<00:00,  8.15it/s]\n"
     ]
    },
    {
     "name": "stdout",
     "output_type": "stream",
     "text": [
      "Epoch 24/60\n",
      "----------\n",
      "PHASE: TRAIN\n",
      "LR 2.5e-06\n"
     ]
    },
    {
     "name": "stderr",
     "output_type": "stream",
     "text": [
      "100%|██████████| 137/137 [00:15<00:00,  8.67it/s]\n"
     ]
    },
    {
     "name": "stdout",
     "output_type": "stream",
     "text": [
      "train_loss:  0.181229810488757\n",
      "train_accuracy:  0.958029197080292\n",
      "train_f1:  0.9625304136253044\n",
      "---------------------------\n",
      "PHASE: VAL\n"
     ]
    },
    {
     "name": "stderr",
     "output_type": "stream",
     "text": [
      "100%|██████████| 34/34 [00:04<00:00,  7.84it/s]\n"
     ]
    },
    {
     "name": "stdout",
     "output_type": "stream",
     "text": [
      "val_loss:  0.5791399064739167\n",
      "val_accuracy:  0.8161764705882353\n",
      "val_f1:  0.8856336882072178\n",
      "---------------------------\n",
      "Epoch 25/60\n",
      "----------\n",
      "PHASE: TRAIN\n",
      "LR 2.5e-06\n"
     ]
    },
    {
     "name": "stderr",
     "output_type": "stream",
     "text": [
      "100%|██████████| 137/137 [00:15<00:00,  9.00it/s]\n"
     ]
    },
    {
     "name": "stdout",
     "output_type": "stream",
     "text": [
      "PHASE: VAL\n"
     ]
    },
    {
     "name": "stderr",
     "output_type": "stream",
     "text": [
      "100%|██████████| 34/34 [00:04<00:00,  8.15it/s]\n"
     ]
    },
    {
     "name": "stdout",
     "output_type": "stream",
     "text": [
      "Epoch 26/60\n",
      "----------\n",
      "PHASE: TRAIN\n",
      "LR 2.5e-06\n"
     ]
    },
    {
     "name": "stderr",
     "output_type": "stream",
     "text": [
      "100%|██████████| 137/137 [00:15<00:00,  8.60it/s]\n"
     ]
    },
    {
     "name": "stdout",
     "output_type": "stream",
     "text": [
      "train_loss:  0.1601808935091117\n",
      "train_accuracy:  0.9571167883211679\n",
      "train_f1:  0.961022766770942\n",
      "---------------------------\n",
      "PHASE: VAL\n"
     ]
    },
    {
     "name": "stderr",
     "output_type": "stream",
     "text": [
      "100%|██████████| 34/34 [00:04<00:00,  8.07it/s]\n"
     ]
    },
    {
     "name": "stdout",
     "output_type": "stream",
     "text": [
      "val_loss:  0.5232939626028597\n",
      "val_accuracy:  0.8125\n",
      "val_f1:  0.8833676943971063\n",
      "---------------------------\n",
      "Epoch 27/60\n",
      "----------\n",
      "PHASE: TRAIN\n",
      "LR 2.5e-06\n"
     ]
    },
    {
     "name": "stderr",
     "output_type": "stream",
     "text": [
      "100%|██████████| 137/137 [00:15<00:00,  8.74it/s]\n"
     ]
    },
    {
     "name": "stdout",
     "output_type": "stream",
     "text": [
      "PHASE: VAL\n"
     ]
    },
    {
     "name": "stderr",
     "output_type": "stream",
     "text": [
      "100%|██████████| 34/34 [00:04<00:00,  7.90it/s]\n"
     ]
    },
    {
     "name": "stdout",
     "output_type": "stream",
     "text": [
      "Epoch 28/60\n",
      "----------\n",
      "PHASE: TRAIN\n",
      "LR 2.5e-06\n"
     ]
    },
    {
     "name": "stderr",
     "output_type": "stream",
     "text": [
      "100%|██████████| 137/137 [00:15<00:00,  8.69it/s]\n"
     ]
    },
    {
     "name": "stdout",
     "output_type": "stream",
     "text": [
      "train_loss:  0.16255119153346023\n",
      "train_accuracy:  0.9525547445255474\n",
      "train_f1:  0.956830031282586\n",
      "---------------------------\n",
      "PHASE: VAL\n"
     ]
    },
    {
     "name": "stderr",
     "output_type": "stream",
     "text": [
      "100%|██████████| 34/34 [00:04<00:00,  7.85it/s]\n"
     ]
    },
    {
     "name": "stdout",
     "output_type": "stream",
     "text": [
      "val_loss:  0.5764470710932715\n",
      "val_accuracy:  0.8088235294117647\n",
      "val_f1:  0.880476100696689\n",
      "---------------------------\n",
      "Epoch 29/60\n",
      "----------\n",
      "PHASE: TRAIN\n",
      "LR 2.5e-06\n"
     ]
    },
    {
     "name": "stderr",
     "output_type": "stream",
     "text": [
      "100%|██████████| 137/137 [00:16<00:00,  8.32it/s]\n"
     ]
    },
    {
     "name": "stdout",
     "output_type": "stream",
     "text": [
      "PHASE: VAL\n"
     ]
    },
    {
     "name": "stderr",
     "output_type": "stream",
     "text": [
      "100%|██████████| 34/34 [00:04<00:00,  7.65it/s]\n"
     ]
    },
    {
     "name": "stdout",
     "output_type": "stream",
     "text": [
      "Epoch 30/60\n",
      "----------\n",
      "PHASE: TRAIN\n",
      "LR 1.25e-06\n"
     ]
    },
    {
     "name": "stderr",
     "output_type": "stream",
     "text": [
      "100%|██████████| 137/137 [00:16<00:00,  8.40it/s]\n"
     ]
    },
    {
     "name": "stdout",
     "output_type": "stream",
     "text": [
      "train_loss:  0.14244885549601846\n",
      "train_accuracy:  0.9607664233576643\n",
      "train_f1:  0.9629147312541474\n",
      "---------------------------\n",
      "PHASE: VAL\n"
     ]
    },
    {
     "name": "stderr",
     "output_type": "stream",
     "text": [
      "100%|██████████| 34/34 [00:04<00:00,  7.90it/s]\n"
     ]
    },
    {
     "name": "stdout",
     "output_type": "stream",
     "text": [
      "val_loss:  0.6063684577759832\n",
      "val_accuracy:  0.7977941176470589\n",
      "val_f1:  0.8732549721520312\n",
      "---------------------------\n",
      "Epoch 31/60\n",
      "----------\n",
      "PHASE: TRAIN\n",
      "LR 1.25e-06\n"
     ]
    },
    {
     "name": "stderr",
     "output_type": "stream",
     "text": [
      "100%|██████████| 137/137 [00:16<00:00,  8.16it/s]\n"
     ]
    },
    {
     "name": "stdout",
     "output_type": "stream",
     "text": [
      "PHASE: VAL\n"
     ]
    },
    {
     "name": "stderr",
     "output_type": "stream",
     "text": [
      "100%|██████████| 34/34 [00:04<00:00,  8.06it/s]\n"
     ]
    },
    {
     "name": "stdout",
     "output_type": "stream",
     "text": [
      "Epoch 32/60\n",
      "----------\n",
      "PHASE: TRAIN\n",
      "LR 1.25e-06\n"
     ]
    },
    {
     "name": "stderr",
     "output_type": "stream",
     "text": [
      "100%|██████████| 137/137 [00:16<00:00,  8.45it/s]\n"
     ]
    },
    {
     "name": "stdout",
     "output_type": "stream",
     "text": [
      "train_loss:  0.13713594082824504\n",
      "train_accuracy:  0.9625912408759124\n",
      "train_f1:  0.9649953655428106\n",
      "---------------------------\n",
      "PHASE: VAL\n"
     ]
    },
    {
     "name": "stderr",
     "output_type": "stream",
     "text": [
      "100%|██████████| 34/34 [00:04<00:00,  7.74it/s]\n"
     ]
    },
    {
     "name": "stdout",
     "output_type": "stream",
     "text": [
      "val_loss:  0.5465473182780175\n",
      "val_accuracy:  0.8272058823529411\n",
      "val_f1:  0.8927403070785426\n",
      "---------------------------\n",
      "Epoch 33/60\n",
      "----------\n",
      "PHASE: TRAIN\n",
      "LR 1.25e-06\n"
     ]
    },
    {
     "name": "stderr",
     "output_type": "stream",
     "text": [
      "100%|██████████| 137/137 [00:15<00:00,  8.69it/s]\n"
     ]
    },
    {
     "name": "stdout",
     "output_type": "stream",
     "text": [
      "PHASE: VAL\n"
     ]
    },
    {
     "name": "stderr",
     "output_type": "stream",
     "text": [
      "100%|██████████| 34/34 [00:04<00:00,  8.02it/s]\n"
     ]
    },
    {
     "name": "stdout",
     "output_type": "stream",
     "text": [
      "Epoch 34/60\n",
      "----------\n",
      "PHASE: TRAIN\n",
      "LR 1.25e-06\n"
     ]
    },
    {
     "name": "stderr",
     "output_type": "stream",
     "text": [
      "100%|██████████| 137/137 [00:15<00:00,  8.76it/s]\n"
     ]
    },
    {
     "name": "stdout",
     "output_type": "stream",
     "text": [
      "train_loss:  0.12193254289645565\n",
      "train_accuracy:  0.968065693430657\n",
      "train_f1:  0.9722019464720194\n",
      "---------------------------\n",
      "PHASE: VAL\n"
     ]
    },
    {
     "name": "stderr",
     "output_type": "stream",
     "text": [
      "100%|██████████| 34/34 [00:04<00:00,  8.10it/s]\n"
     ]
    },
    {
     "name": "stdout",
     "output_type": "stream",
     "text": [
      "val_loss:  0.5773128929885227\n",
      "val_accuracy:  0.8198529411764706\n",
      "val_f1:  0.884834732261203\n",
      "---------------------------\n",
      "Epoch 35/60\n",
      "----------\n",
      "PHASE: TRAIN\n",
      "LR 1.25e-06\n"
     ]
    },
    {
     "name": "stderr",
     "output_type": "stream",
     "text": [
      "100%|██████████| 137/137 [00:16<00:00,  8.20it/s]\n"
     ]
    },
    {
     "name": "stdout",
     "output_type": "stream",
     "text": [
      "PHASE: VAL\n"
     ]
    },
    {
     "name": "stderr",
     "output_type": "stream",
     "text": [
      "100%|██████████| 34/34 [00:04<00:00,  8.13it/s]\n"
     ]
    },
    {
     "name": "stdout",
     "output_type": "stream",
     "text": [
      "Epoch 36/60\n",
      "----------\n",
      "PHASE: TRAIN\n",
      "LR 1.25e-06\n"
     ]
    },
    {
     "name": "stderr",
     "output_type": "stream",
     "text": [
      "100%|██████████| 137/137 [00:15<00:00,  8.75it/s]\n"
     ]
    },
    {
     "name": "stdout",
     "output_type": "stream",
     "text": [
      "train_loss:  0.11135524757423976\n",
      "train_accuracy:  0.9671532846715328\n",
      "train_f1:  0.9681873479318736\n",
      "---------------------------\n",
      "PHASE: VAL\n"
     ]
    },
    {
     "name": "stderr",
     "output_type": "stream",
     "text": [
      "100%|██████████| 34/34 [00:04<00:00,  7.67it/s]\n"
     ]
    },
    {
     "name": "stdout",
     "output_type": "stream",
     "text": [
      "val_loss:  0.5585306002672844\n",
      "val_accuracy:  0.8235294117647058\n",
      "val_f1:  0.8900563488798783\n",
      "---------------------------\n",
      "Epoch 37/60\n",
      "----------\n",
      "PHASE: TRAIN\n",
      "LR 1.25e-06\n"
     ]
    },
    {
     "name": "stderr",
     "output_type": "stream",
     "text": [
      "100%|██████████| 137/137 [00:16<00:00,  8.55it/s]\n"
     ]
    },
    {
     "name": "stdout",
     "output_type": "stream",
     "text": [
      "PHASE: VAL\n"
     ]
    },
    {
     "name": "stderr",
     "output_type": "stream",
     "text": [
      "100%|██████████| 34/34 [00:04<00:00,  8.01it/s]\n"
     ]
    },
    {
     "name": "stdout",
     "output_type": "stream",
     "text": [
      "Epoch 38/60\n",
      "----------\n",
      "PHASE: TRAIN\n",
      "LR 1.25e-06\n"
     ]
    },
    {
     "name": "stderr",
     "output_type": "stream",
     "text": [
      "100%|██████████| 137/137 [00:16<00:00,  8.37it/s]\n"
     ]
    },
    {
     "name": "stdout",
     "output_type": "stream",
     "text": [
      "train_loss:  0.1148619931191206\n",
      "train_accuracy:  0.968065693430657\n",
      "train_f1:  0.9716602942880315\n",
      "---------------------------\n",
      "PHASE: VAL\n"
     ]
    },
    {
     "name": "stderr",
     "output_type": "stream",
     "text": [
      "100%|██████████| 34/34 [00:04<00:00,  8.01it/s]\n"
     ]
    },
    {
     "name": "stdout",
     "output_type": "stream",
     "text": [
      "val_loss:  0.5728648954254287\n",
      "val_accuracy:  0.8051470588235294\n",
      "val_f1:  0.8768708823855884\n",
      "---------------------------\n",
      "Epoch 39/60\n",
      "----------\n",
      "PHASE: TRAIN\n",
      "LR 1.25e-06\n"
     ]
    },
    {
     "name": "stderr",
     "output_type": "stream",
     "text": [
      "100%|██████████| 137/137 [00:15<00:00,  8.89it/s]\n"
     ]
    },
    {
     "name": "stdout",
     "output_type": "stream",
     "text": [
      "PHASE: VAL\n"
     ]
    },
    {
     "name": "stderr",
     "output_type": "stream",
     "text": [
      "100%|██████████| 34/34 [00:04<00:00,  8.07it/s]\n"
     ]
    },
    {
     "name": "stdout",
     "output_type": "stream",
     "text": [
      "Epoch 40/60\n",
      "----------\n",
      "PHASE: TRAIN\n",
      "LR 6.25e-07\n"
     ]
    },
    {
     "name": "stderr",
     "output_type": "stream",
     "text": [
      "100%|██████████| 137/137 [00:16<00:00,  8.48it/s]\n"
     ]
    },
    {
     "name": "stdout",
     "output_type": "stream",
     "text": [
      "train_loss:  0.10198149951446774\n",
      "train_accuracy:  0.9735401459854015\n",
      "train_f1:  0.9787017726798749\n",
      "---------------------------\n",
      "PHASE: VAL\n"
     ]
    },
    {
     "name": "stderr",
     "output_type": "stream",
     "text": [
      "100%|██████████| 34/34 [00:04<00:00,  8.23it/s]\n"
     ]
    },
    {
     "name": "stdout",
     "output_type": "stream",
     "text": [
      "val_loss:  0.530522867828361\n",
      "val_accuracy:  0.8308823529411765\n",
      "val_f1:  0.8948923217305571\n",
      "---------------------------\n",
      "Epoch 41/60\n",
      "----------\n",
      "PHASE: TRAIN\n",
      "LR 6.25e-07\n"
     ]
    },
    {
     "name": "stderr",
     "output_type": "stream",
     "text": [
      "100%|██████████| 137/137 [00:16<00:00,  8.49it/s]\n"
     ]
    },
    {
     "name": "stdout",
     "output_type": "stream",
     "text": [
      "PHASE: VAL\n"
     ]
    },
    {
     "name": "stderr",
     "output_type": "stream",
     "text": [
      "100%|██████████| 34/34 [00:04<00:00,  7.98it/s]\n"
     ]
    },
    {
     "name": "stdout",
     "output_type": "stream",
     "text": [
      "Epoch 42/60\n",
      "----------\n",
      "PHASE: TRAIN\n",
      "LR 6.25e-07\n"
     ]
    },
    {
     "name": "stderr",
     "output_type": "stream",
     "text": [
      "100%|██████████| 137/137 [00:15<00:00,  8.75it/s]\n"
     ]
    },
    {
     "name": "stdout",
     "output_type": "stream",
     "text": [
      "train_loss:  0.08995162286408191\n",
      "train_accuracy:  0.9863138686131386\n",
      "train_f1:  0.987287104622871\n",
      "---------------------------\n",
      "PHASE: VAL\n"
     ]
    },
    {
     "name": "stderr",
     "output_type": "stream",
     "text": [
      "100%|██████████| 34/34 [00:04<00:00,  7.90it/s]\n"
     ]
    },
    {
     "name": "stdout",
     "output_type": "stream",
     "text": [
      "val_loss:  0.5182252718214466\n",
      "val_accuracy:  0.8272058823529411\n",
      "val_f1:  0.8937505713241009\n",
      "---------------------------\n",
      "Epoch 43/60\n",
      "----------\n",
      "PHASE: TRAIN\n",
      "LR 6.25e-07\n"
     ]
    },
    {
     "name": "stderr",
     "output_type": "stream",
     "text": [
      "100%|██████████| 137/137 [00:15<00:00,  8.71it/s]\n"
     ]
    },
    {
     "name": "stdout",
     "output_type": "stream",
     "text": [
      "PHASE: VAL\n"
     ]
    },
    {
     "name": "stderr",
     "output_type": "stream",
     "text": [
      "100%|██████████| 34/34 [00:04<00:00,  7.82it/s]\n"
     ]
    },
    {
     "name": "stdout",
     "output_type": "stream",
     "text": [
      "Epoch 44/60\n",
      "----------\n",
      "PHASE: TRAIN\n",
      "LR 6.25e-07\n"
     ]
    },
    {
     "name": "stderr",
     "output_type": "stream",
     "text": [
      "100%|██████████| 137/137 [00:15<00:00,  8.89it/s]\n"
     ]
    },
    {
     "name": "stdout",
     "output_type": "stream",
     "text": [
      "train_loss:  0.09355474339906861\n",
      "train_accuracy:  0.9817518248175182\n",
      "train_f1:  0.9839416058394164\n",
      "---------------------------\n",
      "PHASE: VAL\n"
     ]
    },
    {
     "name": "stderr",
     "output_type": "stream",
     "text": [
      "100%|██████████| 34/34 [00:04<00:00,  8.09it/s]\n"
     ]
    },
    {
     "name": "stdout",
     "output_type": "stream",
     "text": [
      "val_loss:  0.5258903498230639\n",
      "val_accuracy:  0.8235294117647058\n",
      "val_f1:  0.8930005860152921\n",
      "---------------------------\n",
      "Epoch 45/60\n",
      "----------\n",
      "PHASE: TRAIN\n",
      "LR 6.25e-07\n"
     ]
    },
    {
     "name": "stderr",
     "output_type": "stream",
     "text": [
      "100%|██████████| 137/137 [00:16<00:00,  8.47it/s]\n"
     ]
    },
    {
     "name": "stdout",
     "output_type": "stream",
     "text": [
      "PHASE: VAL\n"
     ]
    },
    {
     "name": "stderr",
     "output_type": "stream",
     "text": [
      "100%|██████████| 34/34 [00:04<00:00,  7.82it/s]\n"
     ]
    },
    {
     "name": "stdout",
     "output_type": "stream",
     "text": [
      "Epoch 46/60\n",
      "----------\n",
      "PHASE: TRAIN\n",
      "LR 6.25e-07\n"
     ]
    },
    {
     "name": "stderr",
     "output_type": "stream",
     "text": [
      "100%|██████████| 137/137 [00:15<00:00,  8.57it/s]\n"
     ]
    },
    {
     "name": "stdout",
     "output_type": "stream",
     "text": [
      "train_loss:  0.10788642149248644\n",
      "train_accuracy:  0.968978102189781\n",
      "train_f1:  0.9697688564476886\n",
      "---------------------------\n",
      "PHASE: VAL\n"
     ]
    },
    {
     "name": "stderr",
     "output_type": "stream",
     "text": [
      "100%|██████████| 34/34 [00:04<00:00,  7.94it/s]\n"
     ]
    },
    {
     "name": "stdout",
     "output_type": "stream",
     "text": [
      "val_loss:  0.5347257806895547\n",
      "val_accuracy:  0.8382352941176471\n",
      "val_f1:  0.900341162105868\n",
      "---------------------------\n",
      "Epoch 47/60\n",
      "----------\n",
      "PHASE: TRAIN\n",
      "LR 6.25e-07\n"
     ]
    },
    {
     "name": "stderr",
     "output_type": "stream",
     "text": [
      "100%|██████████| 137/137 [00:15<00:00,  8.65it/s]\n"
     ]
    },
    {
     "name": "stdout",
     "output_type": "stream",
     "text": [
      "PHASE: VAL\n"
     ]
    },
    {
     "name": "stderr",
     "output_type": "stream",
     "text": [
      "100%|██████████| 34/34 [00:04<00:00,  7.82it/s]\n"
     ]
    },
    {
     "name": "stdout",
     "output_type": "stream",
     "text": [
      "Epoch 48/60\n",
      "----------\n",
      "PHASE: TRAIN\n",
      "LR 6.25e-07\n"
     ]
    },
    {
     "name": "stderr",
     "output_type": "stream",
     "text": [
      "100%|██████████| 137/137 [00:16<00:00,  8.52it/s]\n"
     ]
    },
    {
     "name": "stdout",
     "output_type": "stream",
     "text": [
      "train_loss:  0.08996476145991444\n",
      "train_accuracy:  0.9799270072992701\n",
      "train_f1:  0.9824469933958986\n",
      "---------------------------\n",
      "PHASE: VAL\n"
     ]
    },
    {
     "name": "stderr",
     "output_type": "stream",
     "text": [
      "100%|██████████| 34/34 [00:04<00:00,  7.89it/s]\n"
     ]
    },
    {
     "name": "stdout",
     "output_type": "stream",
     "text": [
      "val_loss:  0.5566076343452818\n",
      "val_accuracy:  0.8235294117647058\n",
      "val_f1:  0.8917799928829341\n",
      "---------------------------\n",
      "Epoch 49/60\n",
      "----------\n",
      "PHASE: TRAIN\n",
      "LR 6.25e-07\n"
     ]
    },
    {
     "name": "stderr",
     "output_type": "stream",
     "text": [
      "100%|██████████| 137/137 [00:16<00:00,  8.29it/s]\n"
     ]
    },
    {
     "name": "stdout",
     "output_type": "stream",
     "text": [
      "PHASE: VAL\n"
     ]
    },
    {
     "name": "stderr",
     "output_type": "stream",
     "text": [
      "100%|██████████| 34/34 [00:04<00:00,  7.99it/s]\n"
     ]
    },
    {
     "name": "stdout",
     "output_type": "stream",
     "text": [
      "Epoch 50/60\n",
      "----------\n",
      "PHASE: TRAIN\n",
      "LR 3.125e-07\n"
     ]
    },
    {
     "name": "stderr",
     "output_type": "stream",
     "text": [
      "100%|██████████| 137/137 [00:15<00:00,  8.66it/s]\n"
     ]
    },
    {
     "name": "stdout",
     "output_type": "stream",
     "text": [
      "train_loss:  0.09515922401868568\n",
      "train_accuracy:  0.9771897810218978\n",
      "train_f1:  0.9787712895377129\n",
      "---------------------------\n",
      "PHASE: VAL\n"
     ]
    },
    {
     "name": "stderr",
     "output_type": "stream",
     "text": [
      "100%|██████████| 34/34 [00:04<00:00,  7.86it/s]\n"
     ]
    },
    {
     "name": "stdout",
     "output_type": "stream",
     "text": [
      "val_loss:  0.5373976417673368\n",
      "val_accuracy:  0.8272058823529411\n",
      "val_f1:  0.8939240498064028\n",
      "---------------------------\n",
      "Epoch 51/60\n",
      "----------\n",
      "PHASE: TRAIN\n",
      "LR 3.125e-07\n"
     ]
    },
    {
     "name": "stderr",
     "output_type": "stream",
     "text": [
      "100%|██████████| 137/137 [00:16<00:00,  8.37it/s]\n"
     ]
    },
    {
     "name": "stdout",
     "output_type": "stream",
     "text": [
      "PHASE: VAL\n"
     ]
    },
    {
     "name": "stderr",
     "output_type": "stream",
     "text": [
      "100%|██████████| 34/34 [00:04<00:00,  8.14it/s]\n"
     ]
    },
    {
     "name": "stdout",
     "output_type": "stream",
     "text": [
      "Epoch 52/60\n",
      "----------\n",
      "PHASE: TRAIN\n",
      "LR 3.125e-07\n"
     ]
    },
    {
     "name": "stderr",
     "output_type": "stream",
     "text": [
      "100%|██████████| 137/137 [00:16<00:00,  8.45it/s]\n"
     ]
    },
    {
     "name": "stdout",
     "output_type": "stream",
     "text": [
      "train_loss:  0.0903658923237537\n",
      "train_accuracy:  0.9835766423357665\n",
      "train_f1:  0.9852363573166492\n",
      "---------------------------\n",
      "PHASE: VAL\n"
     ]
    },
    {
     "name": "stderr",
     "output_type": "stream",
     "text": [
      "100%|██████████| 34/34 [00:04<00:00,  8.06it/s]\n"
     ]
    },
    {
     "name": "stdout",
     "output_type": "stream",
     "text": [
      "val_loss:  0.5235663160214351\n",
      "val_accuracy:  0.8308823529411765\n",
      "val_f1:  0.8959602489014253\n",
      "---------------------------\n",
      "Epoch 53/60\n",
      "----------\n",
      "PHASE: TRAIN\n",
      "LR 3.125e-07\n"
     ]
    },
    {
     "name": "stderr",
     "output_type": "stream",
     "text": [
      "100%|██████████| 137/137 [00:16<00:00,  8.40it/s]\n"
     ]
    },
    {
     "name": "stdout",
     "output_type": "stream",
     "text": [
      "PHASE: VAL\n"
     ]
    },
    {
     "name": "stderr",
     "output_type": "stream",
     "text": [
      "100%|██████████| 34/34 [00:04<00:00,  7.80it/s]\n"
     ]
    },
    {
     "name": "stdout",
     "output_type": "stream",
     "text": [
      "Epoch 54/60\n",
      "----------\n",
      "PHASE: TRAIN\n",
      "LR 3.125e-07\n"
     ]
    },
    {
     "name": "stderr",
     "output_type": "stream",
     "text": [
      "100%|██████████| 137/137 [00:16<00:00,  8.48it/s]\n"
     ]
    },
    {
     "name": "stdout",
     "output_type": "stream",
     "text": [
      "train_loss:  0.08538623389373295\n",
      "train_accuracy:  0.9799270072992701\n",
      "train_f1:  0.9821428571428572\n",
      "---------------------------\n",
      "PHASE: VAL\n"
     ]
    },
    {
     "name": "stderr",
     "output_type": "stream",
     "text": [
      "100%|██████████| 34/34 [00:04<00:00,  8.07it/s]\n"
     ]
    },
    {
     "name": "stdout",
     "output_type": "stream",
     "text": [
      "val_loss:  0.5200783871011535\n",
      "val_accuracy:  0.8272058823529411\n",
      "val_f1:  0.8933300359770948\n",
      "---------------------------\n",
      "Epoch 55/60\n",
      "----------\n",
      "PHASE: TRAIN\n",
      "LR 3.125e-07\n"
     ]
    },
    {
     "name": "stderr",
     "output_type": "stream",
     "text": [
      "100%|██████████| 137/137 [00:16<00:00,  8.41it/s]\n"
     ]
    },
    {
     "name": "stdout",
     "output_type": "stream",
     "text": [
      "PHASE: VAL\n"
     ]
    },
    {
     "name": "stderr",
     "output_type": "stream",
     "text": [
      "100%|██████████| 34/34 [00:04<00:00,  8.20it/s]\n"
     ]
    },
    {
     "name": "stdout",
     "output_type": "stream",
     "text": [
      "Epoch 56/60\n",
      "----------\n",
      "PHASE: TRAIN\n",
      "LR 3.125e-07\n"
     ]
    },
    {
     "name": "stderr",
     "output_type": "stream",
     "text": [
      "100%|██████████| 137/137 [00:16<00:00,  8.21it/s]\n"
     ]
    },
    {
     "name": "stdout",
     "output_type": "stream",
     "text": [
      "train_loss:  0.08091919409301486\n",
      "train_accuracy:  0.9863138686131386\n",
      "train_f1:  0.9880778588807786\n",
      "---------------------------\n",
      "PHASE: VAL\n"
     ]
    },
    {
     "name": "stderr",
     "output_type": "stream",
     "text": [
      "100%|██████████| 34/34 [00:04<00:00,  8.02it/s]\n"
     ]
    },
    {
     "name": "stdout",
     "output_type": "stream",
     "text": [
      "val_loss:  0.5201289252847132\n",
      "val_accuracy:  0.8308823529411765\n",
      "val_f1:  0.8963050021873551\n",
      "---------------------------\n",
      "Epoch 57/60\n",
      "----------\n",
      "PHASE: TRAIN\n",
      "LR 3.125e-07\n"
     ]
    },
    {
     "name": "stderr",
     "output_type": "stream",
     "text": [
      "100%|██████████| 137/137 [00:16<00:00,  8.50it/s]\n"
     ]
    },
    {
     "name": "stdout",
     "output_type": "stream",
     "text": [
      "PHASE: VAL\n"
     ]
    },
    {
     "name": "stderr",
     "output_type": "stream",
     "text": [
      "100%|██████████| 34/34 [00:04<00:00,  8.15it/s]\n"
     ]
    },
    {
     "name": "stdout",
     "output_type": "stream",
     "text": [
      "Epoch 58/60\n",
      "----------\n",
      "PHASE: TRAIN\n",
      "LR 3.125e-07\n"
     ]
    },
    {
     "name": "stderr",
     "output_type": "stream",
     "text": [
      "100%|██████████| 137/137 [00:15<00:00,  8.79it/s]\n"
     ]
    },
    {
     "name": "stdout",
     "output_type": "stream",
     "text": [
      "train_loss:  0.09100560957470732\n",
      "train_accuracy:  0.9844890510948905\n",
      "train_f1:  0.9851233924226624\n",
      "---------------------------\n",
      "PHASE: VAL\n"
     ]
    },
    {
     "name": "stderr",
     "output_type": "stream",
     "text": [
      "100%|██████████| 34/34 [00:04<00:00,  8.07it/s]\n"
     ]
    },
    {
     "name": "stdout",
     "output_type": "stream",
     "text": [
      "val_loss:  0.5213229486253113\n",
      "val_accuracy:  0.8382352941176471\n",
      "val_f1:  0.897998141564318\n",
      "---------------------------\n",
      "Epoch 59/60\n",
      "----------\n",
      "PHASE: TRAIN\n",
      "LR 3.125e-07\n"
     ]
    },
    {
     "name": "stderr",
     "output_type": "stream",
     "text": [
      "100%|██████████| 137/137 [00:16<00:00,  8.38it/s]\n"
     ]
    },
    {
     "name": "stdout",
     "output_type": "stream",
     "text": [
      "PHASE: VAL\n"
     ]
    },
    {
     "name": "stderr",
     "output_type": "stream",
     "text": [
      "100%|██████████| 34/34 [00:04<00:00,  7.98it/s]\n"
     ]
    },
    {
     "name": "stdout",
     "output_type": "stream",
     "text": [
      "Epoch 60/60\n",
      "----------\n",
      "PHASE: TRAIN\n",
      "LR 1.5625e-07\n"
     ]
    },
    {
     "name": "stderr",
     "output_type": "stream",
     "text": [
      "100%|██████████| 137/137 [00:16<00:00,  8.26it/s]\n"
     ]
    },
    {
     "name": "stdout",
     "output_type": "stream",
     "text": [
      "train_loss:  0.08496565834353983\n",
      "train_accuracy:  0.9771897810218978\n",
      "train_f1:  0.9810392770246785\n",
      "---------------------------\n",
      "PHASE: VAL\n"
     ]
    },
    {
     "name": "stderr",
     "output_type": "stream",
     "text": [
      "100%|██████████| 34/34 [00:04<00:00,  8.12it/s]"
     ]
    },
    {
     "name": "stdout",
     "output_type": "stream",
     "text": [
      "val_loss:  0.5196712809034473\n",
      "val_accuracy:  0.8161764705882353\n",
      "val_f1:  0.8865670685523627\n",
      "---------------------------\n"
     ]
    },
    {
     "name": "stderr",
     "output_type": "stream",
     "text": [
      "\n"
     ]
    }
   ],
   "source": [
    "train_params = {\n",
    "    'start_lr': 1e-5,\n",
    "    'scheduler_step_size': 10,\n",
    "    'scheduler_gamma': 0.5,\n",
    "    'num_epochs': 60,\n",
    "    'every_epoch': 2,\n",
    "}\n",
    "\n",
    "optimizer_ft = optim.Adam(filter(lambda p: p.requires_grad, model.parameters()), \n",
    "                          lr=train_params['start_lr'])\n",
    "\n",
    "exp_lr_scheduler = lr_scheduler.StepLR(optimizer_ft, \n",
    "                                       step_size=train_params['scheduler_step_size'], \n",
    "                                       gamma=train_params['scheduler_gamma'])\n",
    "loss_func = nn.CrossEntropyLoss()\n",
    "\n",
    "model, train_history, val_history = train_model(model, 'vgg_weights', optimizer_ft, \n",
    "                                                loss_func, exp_lr_scheduler, \n",
    "                                                num_epochs=train_params['num_epochs'],\n",
    "                                                every_epoch = train_params['every_epoch'])"
   ]
  },
  {
   "cell_type": "code",
   "execution_count": 20,
   "id": "b5e4d3e7",
   "metadata": {},
   "outputs": [],
   "source": [
    "x = np.arange(1, 31)*2"
   ]
  },
  {
   "cell_type": "code",
   "execution_count": 21,
   "id": "6ab930b3",
   "metadata": {},
   "outputs": [
    {
     "data": {
      "image/png": "[encoded data removed]",
      "text/plain": [
       "<Figure size 1296x360 with 3 Axes>"
      ]
     },
     "metadata": {
      "needs_background": "light"
     },
     "output_type": "display_data"
    }
   ],
   "source": [
    "fig, axs = plt.subplots(1, 3, figsize=(18, 5))\n",
    "fig.suptitle(\"Learning curves\")\n",
    "axs[0].plot(x, train_history['loss'], 'r', label = 'train')\n",
    "axs[0].plot(x, val_history['loss'], 'b', label = 'val')\n",
    "axs[0].legend(loc=\"upper right\")\n",
    "axs[0].set_title(\"Loss\")\n",
    "axs[1].plot(x, train_history['accuracy'], 'r', label = 'train')\n",
    "axs[1].plot(x, val_history['accuracy'], 'b', label = 'val')\n",
    "axs[1].legend(loc=\"upper right\")\n",
    "axs[1].set_title(\"Accuracy\")\n",
    "axs[2].plot(x, train_history['f1'], 'r', label = 'train')\n",
    "axs[2].plot(x, val_history['f1'], 'b', label = 'val')\n",
    "axs[2].legend(loc=\"upper right\")\n",
    "axs[2].set_title(\"F1-score\")\n",
    "None"
   ]
  },
  {
   "cell_type": "markdown",
   "id": "a57cac3a",
   "metadata": {},
   "source": [
    "По графику видно, что примерно на 46 эпохе начинается плато, возьмем ее за лучшую модель."
   ]
  },
  {
   "cell_type": "code",
   "execution_count": 22,
   "id": "915ef8f7",
   "metadata": {
    "id": "P32B_JPhrjDK"
   },
   "outputs": [],
   "source": [
    "# torch.cuda.empty_cache() \n",
    "# model.load_state_dict('vgg_weights/best_weights_46.pkl')"
   ]
  },
  {
   "cell_type": "markdown",
   "id": "5cf149e9",
   "metadata": {
    "id": "9848432e"
   },
   "source": [
    "### Test and metrics"
   ]
  },
  {
   "cell_type": "code",
   "execution_count": 23,
   "id": "3b689030",
   "metadata": {},
   "outputs": [
    {
     "name": "stdout",
     "output_type": "stream",
     "text": [
      "Val f1: 0.8900563488798783\n",
      "Val accuracy: 0.8235294117647058\n"
     ]
    }
   ],
   "source": [
    "val_f1 = val_history['f1'][17]\n",
    "val_acc = val_history['accuracy'][17]\n",
    "print(f'Val f1: {val_f1}')\n",
    "print(f'Val accuracy: {val_acc}')"
   ]
  },
  {
   "cell_type": "markdown",
   "id": "55a88391",
   "metadata": {
    "id": "xOrBRdnJyyHW"
   },
   "source": [
    "## ResNet"
   ]
  },
  {
   "cell_type": "code",
   "execution_count": 13,
   "id": "396a35c2",
   "metadata": {
    "id": "orbVwZfRys9y"
   },
   "outputs": [],
   "source": [
    "import torchvision.models as models\n",
    "resnet18 = models.resnet18(weights=None)\n",
    "resnet18.apply(weights_init_uniform)\n",
    "resnet18.to(device)\n",
    "None"
   ]
  },
  {
   "cell_type": "code",
   "execution_count": 14,
   "id": "f909d888",
   "metadata": {},
   "outputs": [
    {
     "name": "stderr",
     "output_type": "stream",
     "text": [
      "/home/user/conda/lib/python3.7/site-packages/torch/optim/lr_scheduler.py:143: UserWarning: Detected call of `lr_scheduler.step()` before `optimizer.step()`. In PyTorch 1.1.0 and later, you should call them in the opposite order: `optimizer.step()` before `lr_scheduler.step()`.  Failure to do this will result in PyTorch skipping the first value of the learning rate schedule. See more details at https://pytorch.org/docs/stable/optim.html#how-to-adjust-learning-rate\n",
      "  \"https://pytorch.org/docs/stable/optim.html#how-to-adjust-learning-rate\", UserWarning)\n"
     ]
    },
    {
     "name": "stdout",
     "output_type": "stream",
     "text": [
      "Epoch 1/60\n",
      "----------\n",
      "PHASE: TRAIN\n",
      "LR 1e-05\n"
     ]
    },
    {
     "name": "stderr",
     "output_type": "stream",
     "text": [
      "100%|██████████| 137/137 [00:15<00:00,  8.79it/s]\n"
     ]
    },
    {
     "name": "stdout",
     "output_type": "stream",
     "text": [
      "PHASE: VAL\n"
     ]
    },
    {
     "name": "stderr",
     "output_type": "stream",
     "text": [
      "100%|██████████| 34/34 [00:04<00:00,  8.17it/s]\n"
     ]
    },
    {
     "name": "stdout",
     "output_type": "stream",
     "text": [
      "Epoch 2/60\n",
      "----------\n",
      "PHASE: TRAIN\n",
      "LR 1e-05\n"
     ]
    },
    {
     "name": "stderr",
     "output_type": "stream",
     "text": [
      "100%|██████████| 137/137 [00:15<00:00,  8.62it/s]\n"
     ]
    },
    {
     "name": "stdout",
     "output_type": "stream",
     "text": [
      "train_loss:  4.141209082011759\n",
      "train_accuracy:  0.2728102189781022\n",
      "train_f1:  0.26608446298227323\n",
      "---------------------------\n",
      "PHASE: VAL\n"
     ]
    },
    {
     "name": "stderr",
     "output_type": "stream",
     "text": [
      "100%|██████████| 34/34 [00:04<00:00,  7.91it/s]\n"
     ]
    },
    {
     "name": "stdout",
     "output_type": "stream",
     "text": [
      "val_loss:  3.2983745336532593\n",
      "val_accuracy:  0.3639705882352941\n",
      "val_f1:  0.48192789644995526\n",
      "---------------------------\n",
      "Epoch 3/60\n",
      "----------\n",
      "PHASE: TRAIN\n",
      "LR 1e-05\n"
     ]
    },
    {
     "name": "stderr",
     "output_type": "stream",
     "text": [
      "100%|██████████| 137/137 [00:15<00:00,  8.73it/s]\n"
     ]
    },
    {
     "name": "stdout",
     "output_type": "stream",
     "text": [
      "PHASE: VAL\n"
     ]
    },
    {
     "name": "stderr",
     "output_type": "stream",
     "text": [
      "100%|██████████| 34/34 [00:04<00:00,  8.10it/s]\n"
     ]
    },
    {
     "name": "stdout",
     "output_type": "stream",
     "text": [
      "Epoch 4/60\n",
      "----------\n",
      "PHASE: TRAIN\n",
      "LR 1e-05\n"
     ]
    },
    {
     "name": "stderr",
     "output_type": "stream",
     "text": [
      "100%|██████████| 137/137 [00:15<00:00,  8.82it/s]\n"
     ]
    },
    {
     "name": "stdout",
     "output_type": "stream",
     "text": [
      "train_loss:  2.461871315963077\n",
      "train_accuracy:  0.4124087591240876\n",
      "train_f1:  0.43132603406326014\n",
      "---------------------------\n",
      "PHASE: VAL\n"
     ]
    },
    {
     "name": "stderr",
     "output_type": "stream",
     "text": [
      "100%|██████████| 34/34 [00:04<00:00,  8.00it/s]\n"
     ]
    },
    {
     "name": "stdout",
     "output_type": "stream",
     "text": [
      "val_loss:  2.0978574117316917\n",
      "val_accuracy:  0.47058823529411764\n",
      "val_f1:  0.5943695193695194\n",
      "---------------------------\n",
      "Epoch 5/60\n",
      "----------\n",
      "PHASE: TRAIN\n",
      "LR 1e-05\n"
     ]
    },
    {
     "name": "stderr",
     "output_type": "stream",
     "text": [
      "100%|██████████| 137/137 [00:15<00:00,  9.00it/s]\n"
     ]
    },
    {
     "name": "stdout",
     "output_type": "stream",
     "text": [
      "PHASE: VAL\n"
     ]
    },
    {
     "name": "stderr",
     "output_type": "stream",
     "text": [
      "100%|██████████| 34/34 [00:04<00:00,  7.84it/s]\n"
     ]
    },
    {
     "name": "stdout",
     "output_type": "stream",
     "text": [
      "Epoch 6/60\n",
      "----------\n",
      "PHASE: TRAIN\n",
      "LR 1e-05\n"
     ]
    },
    {
     "name": "stderr",
     "output_type": "stream",
     "text": [
      "100%|██████████| 137/137 [00:15<00:00,  8.86it/s]\n"
     ]
    },
    {
     "name": "stdout",
     "output_type": "stream",
     "text": [
      "train_loss:  1.9195943670551272\n",
      "train_accuracy:  0.43613138686131386\n",
      "train_f1:  0.44635036496350367\n",
      "---------------------------\n",
      "PHASE: VAL\n"
     ]
    },
    {
     "name": "stderr",
     "output_type": "stream",
     "text": [
      "100%|██████████| 34/34 [00:04<00:00,  7.92it/s]\n"
     ]
    },
    {
     "name": "stdout",
     "output_type": "stream",
     "text": [
      "val_loss:  1.7218784401193261\n",
      "val_accuracy:  0.5\n",
      "val_f1:  0.6242885586635587\n",
      "---------------------------\n",
      "Epoch 7/60\n",
      "----------\n",
      "PHASE: TRAIN\n",
      "LR 1e-05\n"
     ]
    },
    {
     "name": "stderr",
     "output_type": "stream",
     "text": [
      "100%|██████████| 137/137 [00:16<00:00,  8.50it/s]\n"
     ]
    },
    {
     "name": "stdout",
     "output_type": "stream",
     "text": [
      "PHASE: VAL\n"
     ]
    },
    {
     "name": "stderr",
     "output_type": "stream",
     "text": [
      "100%|██████████| 34/34 [00:04<00:00,  7.88it/s]\n"
     ]
    },
    {
     "name": "stdout",
     "output_type": "stream",
     "text": [
      "Epoch 8/60\n",
      "----------\n",
      "PHASE: TRAIN\n",
      "LR 1e-05\n"
     ]
    },
    {
     "name": "stderr",
     "output_type": "stream",
     "text": [
      "100%|██████████| 137/137 [00:15<00:00,  8.82it/s]\n"
     ]
    },
    {
     "name": "stdout",
     "output_type": "stream",
     "text": [
      "train_loss:  1.6496607770014853\n",
      "train_accuracy:  0.46806569343065696\n",
      "train_f1:  0.4763034410844631\n",
      "---------------------------\n",
      "PHASE: VAL\n"
     ]
    },
    {
     "name": "stderr",
     "output_type": "stream",
     "text": [
      "100%|██████████| 34/34 [00:04<00:00,  7.85it/s]\n"
     ]
    },
    {
     "name": "stdout",
     "output_type": "stream",
     "text": [
      "val_loss:  1.5658875596983468\n",
      "val_accuracy:  0.5183823529411765\n",
      "val_f1:  0.6401436798495622\n",
      "---------------------------\n",
      "Epoch 9/60\n",
      "----------\n",
      "PHASE: TRAIN\n",
      "LR 1e-05\n"
     ]
    },
    {
     "name": "stderr",
     "output_type": "stream",
     "text": [
      "100%|██████████| 137/137 [00:15<00:00,  8.88it/s]\n"
     ]
    },
    {
     "name": "stdout",
     "output_type": "stream",
     "text": [
      "PHASE: VAL\n"
     ]
    },
    {
     "name": "stderr",
     "output_type": "stream",
     "text": [
      "100%|██████████| 34/34 [00:04<00:00,  8.19it/s]\n"
     ]
    },
    {
     "name": "stdout",
     "output_type": "stream",
     "text": [
      "Epoch 10/60\n",
      "----------\n",
      "PHASE: TRAIN\n",
      "LR 1e-05\n"
     ]
    },
    {
     "name": "stderr",
     "output_type": "stream",
     "text": [
      "100%|██████████| 137/137 [00:14<00:00,  9.25it/s]\n"
     ]
    },
    {
     "name": "stdout",
     "output_type": "stream",
     "text": [
      "train_loss:  1.5429143588038257\n",
      "train_accuracy:  0.5082116788321168\n",
      "train_f1:  0.5285236357316649\n",
      "---------------------------\n",
      "PHASE: VAL\n"
     ]
    },
    {
     "name": "stderr",
     "output_type": "stream",
     "text": [
      "100%|██████████| 34/34 [00:04<00:00,  7.88it/s]\n"
     ]
    },
    {
     "name": "stdout",
     "output_type": "stream",
     "text": [
      "val_loss:  1.4909731092698433\n",
      "val_accuracy:  0.5330882352941176\n",
      "val_f1:  0.6642142171553939\n",
      "---------------------------\n",
      "Epoch 11/60\n",
      "----------\n",
      "PHASE: TRAIN\n",
      "LR 1e-05\n"
     ]
    },
    {
     "name": "stderr",
     "output_type": "stream",
     "text": [
      "100%|██████████| 137/137 [00:15<00:00,  9.13it/s]\n"
     ]
    },
    {
     "name": "stdout",
     "output_type": "stream",
     "text": [
      "PHASE: VAL\n"
     ]
    },
    {
     "name": "stderr",
     "output_type": "stream",
     "text": [
      "100%|██████████| 34/34 [00:04<00:00,  7.95it/s]\n"
     ]
    },
    {
     "name": "stdout",
     "output_type": "stream",
     "text": [
      "Epoch 12/60\n",
      "----------\n",
      "PHASE: TRAIN\n",
      "LR 1e-05\n"
     ]
    },
    {
     "name": "stderr",
     "output_type": "stream",
     "text": [
      "100%|██████████| 137/137 [00:16<00:00,  8.51it/s]\n"
     ]
    },
    {
     "name": "stdout",
     "output_type": "stream",
     "text": [
      "train_loss:  1.434213987667195\n",
      "train_accuracy:  0.5392335766423357\n",
      "train_f1:  0.5538321167883211\n",
      "---------------------------\n",
      "PHASE: VAL\n"
     ]
    },
    {
     "name": "stderr",
     "output_type": "stream",
     "text": [
      "100%|██████████| 34/34 [00:04<00:00,  8.05it/s]\n"
     ]
    },
    {
     "name": "stdout",
     "output_type": "stream",
     "text": [
      "val_loss:  1.4209976853693234\n",
      "val_accuracy:  0.5772058823529411\n",
      "val_f1:  0.7030678471854943\n",
      "---------------------------\n",
      "Epoch 13/60\n",
      "----------\n",
      "PHASE: TRAIN\n",
      "LR 1e-05\n"
     ]
    },
    {
     "name": "stderr",
     "output_type": "stream",
     "text": [
      "100%|██████████| 137/137 [00:14<00:00,  9.33it/s]\n"
     ]
    },
    {
     "name": "stdout",
     "output_type": "stream",
     "text": [
      "PHASE: VAL\n"
     ]
    },
    {
     "name": "stderr",
     "output_type": "stream",
     "text": [
      "100%|██████████| 34/34 [00:04<00:00,  8.11it/s]\n"
     ]
    },
    {
     "name": "stdout",
     "output_type": "stream",
     "text": [
      "Epoch 14/60\n",
      "----------\n",
      "PHASE: TRAIN\n",
      "LR 1e-05\n"
     ]
    },
    {
     "name": "stderr",
     "output_type": "stream",
     "text": [
      "100%|██████████| 137/137 [00:15<00:00,  9.04it/s]\n"
     ]
    },
    {
     "name": "stdout",
     "output_type": "stream",
     "text": [
      "train_loss:  1.3061700158745704\n",
      "train_accuracy:  0.5593065693430657\n",
      "train_f1:  0.5784671532846712\n",
      "---------------------------\n",
      "PHASE: VAL\n"
     ]
    },
    {
     "name": "stderr",
     "output_type": "stream",
     "text": [
      "100%|██████████| 34/34 [00:04<00:00,  7.95it/s]\n"
     ]
    },
    {
     "name": "stdout",
     "output_type": "stream",
     "text": [
      "val_loss:  1.3351993430542815\n",
      "val_accuracy:  0.5808823529411765\n",
      "val_f1:  0.7063515120500418\n",
      "---------------------------\n",
      "Epoch 15/60\n",
      "----------\n",
      "PHASE: TRAIN\n",
      "LR 1e-05\n"
     ]
    },
    {
     "name": "stderr",
     "output_type": "stream",
     "text": [
      "100%|██████████| 137/137 [00:15<00:00,  8.65it/s]\n"
     ]
    },
    {
     "name": "stdout",
     "output_type": "stream",
     "text": [
      "PHASE: VAL\n"
     ]
    },
    {
     "name": "stderr",
     "output_type": "stream",
     "text": [
      "100%|██████████| 34/34 [00:04<00:00,  8.18it/s]\n"
     ]
    },
    {
     "name": "stdout",
     "output_type": "stream",
     "text": [
      "Epoch 16/60\n",
      "----------\n",
      "PHASE: TRAIN\n",
      "LR 1e-05\n"
     ]
    },
    {
     "name": "stderr",
     "output_type": "stream",
     "text": [
      "100%|██████████| 137/137 [00:15<00:00,  8.93it/s]\n"
     ]
    },
    {
     "name": "stdout",
     "output_type": "stream",
     "text": [
      "train_loss:  1.2676209920514239\n",
      "train_accuracy:  0.5784671532846716\n",
      "train_f1:  0.6017857142857144\n",
      "---------------------------\n",
      "PHASE: VAL\n"
     ]
    },
    {
     "name": "stderr",
     "output_type": "stream",
     "text": [
      "100%|██████████| 34/34 [00:04<00:00,  8.23it/s]\n"
     ]
    },
    {
     "name": "stdout",
     "output_type": "stream",
     "text": [
      "val_loss:  1.2818668245830958\n",
      "val_accuracy:  0.5845588235294118\n",
      "val_f1:  0.7115784746299452\n",
      "---------------------------\n",
      "Epoch 17/60\n",
      "----------\n",
      "PHASE: TRAIN\n",
      "LR 1e-05\n"
     ]
    },
    {
     "name": "stderr",
     "output_type": "stream",
     "text": [
      "100%|██████████| 137/137 [00:14<00:00,  9.17it/s]\n"
     ]
    },
    {
     "name": "stdout",
     "output_type": "stream",
     "text": [
      "PHASE: VAL\n"
     ]
    },
    {
     "name": "stderr",
     "output_type": "stream",
     "text": [
      "100%|██████████| 34/34 [00:04<00:00,  7.83it/s]\n"
     ]
    },
    {
     "name": "stdout",
     "output_type": "stream",
     "text": [
      "Epoch 18/60\n",
      "----------\n",
      "PHASE: TRAIN\n",
      "LR 1e-05\n"
     ]
    },
    {
     "name": "stderr",
     "output_type": "stream",
     "text": [
      "100%|██████████| 137/137 [00:16<00:00,  8.51it/s]\n"
     ]
    },
    {
     "name": "stdout",
     "output_type": "stream",
     "text": [
      "train_loss:  1.2246930262033087\n",
      "train_accuracy:  0.5958029197080292\n",
      "train_f1:  0.613773027459159\n",
      "---------------------------\n",
      "PHASE: VAL\n"
     ]
    },
    {
     "name": "stderr",
     "output_type": "stream",
     "text": [
      "100%|██████████| 34/34 [00:04<00:00,  7.94it/s]\n"
     ]
    },
    {
     "name": "stdout",
     "output_type": "stream",
     "text": [
      "val_loss:  1.3279906362021232\n",
      "val_accuracy:  0.5735294117647058\n",
      "val_f1:  0.6896934968626146\n",
      "---------------------------\n",
      "Epoch 19/60\n",
      "----------\n",
      "PHASE: TRAIN\n",
      "LR 1e-05\n"
     ]
    },
    {
     "name": "stderr",
     "output_type": "stream",
     "text": [
      "100%|██████████| 137/137 [00:15<00:00,  8.95it/s]\n"
     ]
    },
    {
     "name": "stdout",
     "output_type": "stream",
     "text": [
      "PHASE: VAL\n"
     ]
    },
    {
     "name": "stderr",
     "output_type": "stream",
     "text": [
      "100%|██████████| 34/34 [00:04<00:00,  7.89it/s]\n"
     ]
    },
    {
     "name": "stdout",
     "output_type": "stream",
     "text": [
      "Epoch 20/60\n",
      "----------\n",
      "PHASE: TRAIN\n",
      "LR 1e-05\n"
     ]
    },
    {
     "name": "stderr",
     "output_type": "stream",
     "text": [
      "100%|██████████| 137/137 [00:15<00:00,  8.68it/s]\n"
     ]
    },
    {
     "name": "stdout",
     "output_type": "stream",
     "text": [
      "train_loss:  1.1752387109029032\n",
      "train_accuracy:  0.5994525547445255\n",
      "train_f1:  0.6239659367396594\n",
      "---------------------------\n",
      "PHASE: VAL\n"
     ]
    },
    {
     "name": "stderr",
     "output_type": "stream",
     "text": [
      "100%|██████████| 34/34 [00:04<00:00,  7.94it/s]\n"
     ]
    },
    {
     "name": "stdout",
     "output_type": "stream",
     "text": [
      "val_loss:  1.2821484308908968\n",
      "val_accuracy:  0.5772058823529411\n",
      "val_f1:  0.7057563147636678\n",
      "---------------------------\n",
      "Epoch 21/60\n",
      "----------\n",
      "PHASE: TRAIN\n",
      "LR 1e-05\n"
     ]
    },
    {
     "name": "stderr",
     "output_type": "stream",
     "text": [
      "100%|██████████| 137/137 [00:15<00:00,  8.76it/s]\n"
     ]
    },
    {
     "name": "stdout",
     "output_type": "stream",
     "text": [
      "PHASE: VAL\n"
     ]
    },
    {
     "name": "stderr",
     "output_type": "stream",
     "text": [
      "100%|██████████| 34/34 [00:04<00:00,  7.95it/s]\n"
     ]
    },
    {
     "name": "stdout",
     "output_type": "stream",
     "text": [
      "Epoch 22/60\n",
      "----------\n",
      "PHASE: TRAIN\n",
      "LR 1e-05\n"
     ]
    },
    {
     "name": "stderr",
     "output_type": "stream",
     "text": [
      "100%|██████████| 137/137 [00:14<00:00,  9.36it/s]\n"
     ]
    },
    {
     "name": "stdout",
     "output_type": "stream",
     "text": [
      "train_loss:  1.1595182040311995\n",
      "train_accuracy:  0.614963503649635\n",
      "train_f1:  0.6391293013555783\n",
      "---------------------------\n",
      "PHASE: VAL\n"
     ]
    },
    {
     "name": "stderr",
     "output_type": "stream",
     "text": [
      "100%|██████████| 34/34 [00:04<00:00,  8.03it/s]\n"
     ]
    },
    {
     "name": "stdout",
     "output_type": "stream",
     "text": [
      "val_loss:  1.1878199024701162\n",
      "val_accuracy:  0.5955882352941176\n",
      "val_f1:  0.7120879120879122\n",
      "---------------------------\n",
      "Epoch 23/60\n",
      "----------\n",
      "PHASE: TRAIN\n",
      "LR 1e-05\n"
     ]
    },
    {
     "name": "stderr",
     "output_type": "stream",
     "text": [
      "100%|██████████| 137/137 [00:15<00:00,  8.71it/s]\n"
     ]
    },
    {
     "name": "stdout",
     "output_type": "stream",
     "text": [
      "PHASE: VAL\n"
     ]
    },
    {
     "name": "stderr",
     "output_type": "stream",
     "text": [
      "100%|██████████| 34/34 [00:04<00:00,  7.90it/s]\n"
     ]
    },
    {
     "name": "stdout",
     "output_type": "stream",
     "text": [
      "Epoch 24/60\n",
      "----------\n",
      "PHASE: TRAIN\n",
      "LR 1e-05\n"
     ]
    },
    {
     "name": "stderr",
     "output_type": "stream",
     "text": [
      "100%|██████████| 137/137 [00:14<00:00,  9.21it/s]\n"
     ]
    },
    {
     "name": "stdout",
     "output_type": "stream",
     "text": [
      "train_loss:  1.0903437914204424\n",
      "train_accuracy:  0.6322992700729927\n",
      "train_f1:  0.655170316301703\n",
      "---------------------------\n",
      "PHASE: VAL\n"
     ]
    },
    {
     "name": "stderr",
     "output_type": "stream",
     "text": [
      "100%|██████████| 34/34 [00:04<00:00,  8.02it/s]\n"
     ]
    },
    {
     "name": "stdout",
     "output_type": "stream",
     "text": [
      "val_loss:  1.1363486164413832\n",
      "val_accuracy:  0.6397058823529411\n",
      "val_f1:  0.7515646526675939\n",
      "---------------------------\n",
      "Epoch 25/60\n",
      "----------\n",
      "PHASE: TRAIN\n",
      "LR 1e-05\n"
     ]
    },
    {
     "name": "stderr",
     "output_type": "stream",
     "text": [
      "100%|██████████| 137/137 [00:15<00:00,  9.12it/s]\n"
     ]
    },
    {
     "name": "stdout",
     "output_type": "stream",
     "text": [
      "PHASE: VAL\n"
     ]
    },
    {
     "name": "stderr",
     "output_type": "stream",
     "text": [
      "100%|██████████| 34/34 [00:04<00:00,  7.75it/s]\n"
     ]
    },
    {
     "name": "stdout",
     "output_type": "stream",
     "text": [
      "Epoch 26/60\n",
      "----------\n",
      "PHASE: TRAIN\n",
      "LR 1e-05\n"
     ]
    },
    {
     "name": "stderr",
     "output_type": "stream",
     "text": [
      "100%|██████████| 137/137 [00:14<00:00,  9.26it/s]\n"
     ]
    },
    {
     "name": "stdout",
     "output_type": "stream",
     "text": [
      "train_loss:  0.9839562042786257\n",
      "train_accuracy:  0.6779197080291971\n",
      "train_f1:  0.6985249391727494\n",
      "---------------------------\n",
      "PHASE: VAL\n"
     ]
    },
    {
     "name": "stderr",
     "output_type": "stream",
     "text": [
      "100%|██████████| 34/34 [00:04<00:00,  8.03it/s]\n"
     ]
    },
    {
     "name": "stdout",
     "output_type": "stream",
     "text": [
      "val_loss:  1.082748670678805\n",
      "val_accuracy:  0.6544117647058824\n",
      "val_f1:  0.7594599436511202\n",
      "---------------------------\n",
      "Epoch 27/60\n",
      "----------\n",
      "PHASE: TRAIN\n",
      "LR 1e-05\n"
     ]
    },
    {
     "name": "stderr",
     "output_type": "stream",
     "text": [
      "100%|██████████| 137/137 [00:15<00:00,  8.87it/s]\n"
     ]
    },
    {
     "name": "stdout",
     "output_type": "stream",
     "text": [
      "PHASE: VAL\n"
     ]
    },
    {
     "name": "stderr",
     "output_type": "stream",
     "text": [
      "100%|██████████| 34/34 [00:04<00:00,  8.01it/s]\n"
     ]
    },
    {
     "name": "stdout",
     "output_type": "stream",
     "text": [
      "Epoch 28/60\n",
      "----------\n",
      "PHASE: TRAIN\n",
      "LR 1e-05\n"
     ]
    },
    {
     "name": "stderr",
     "output_type": "stream",
     "text": [
      "100%|██████████| 137/137 [00:15<00:00,  9.05it/s]\n"
     ]
    },
    {
     "name": "stdout",
     "output_type": "stream",
     "text": [
      "train_loss:  0.9503740407254574\n",
      "train_accuracy:  0.6852189781021898\n",
      "train_f1:  0.7019377824122351\n",
      "---------------------------\n",
      "PHASE: VAL\n"
     ]
    },
    {
     "name": "stderr",
     "output_type": "stream",
     "text": [
      "100%|██████████| 34/34 [00:04<00:00,  8.12it/s]\n"
     ]
    },
    {
     "name": "stdout",
     "output_type": "stream",
     "text": [
      "val_loss:  1.0969452392309904\n",
      "val_accuracy:  0.6286764705882353\n",
      "val_f1:  0.7316140354743296\n",
      "---------------------------\n",
      "Epoch 29/60\n",
      "----------\n",
      "PHASE: TRAIN\n",
      "LR 1e-05\n"
     ]
    },
    {
     "name": "stderr",
     "output_type": "stream",
     "text": [
      "100%|██████████| 137/137 [00:16<00:00,  8.49it/s]\n"
     ]
    },
    {
     "name": "stdout",
     "output_type": "stream",
     "text": [
      "PHASE: VAL\n"
     ]
    },
    {
     "name": "stderr",
     "output_type": "stream",
     "text": [
      "100%|██████████| 34/34 [00:04<00:00,  7.89it/s]\n"
     ]
    },
    {
     "name": "stdout",
     "output_type": "stream",
     "text": [
      "Epoch 30/60\n",
      "----------\n",
      "PHASE: TRAIN\n",
      "LR 5e-06\n"
     ]
    },
    {
     "name": "stderr",
     "output_type": "stream",
     "text": [
      "100%|██████████| 137/137 [00:15<00:00,  8.78it/s]\n"
     ]
    },
    {
     "name": "stdout",
     "output_type": "stream",
     "text": [
      "train_loss:  0.920775653998347\n",
      "train_accuracy:  0.697992700729927\n",
      "train_f1:  0.7248435870698644\n",
      "---------------------------\n",
      "PHASE: VAL\n"
     ]
    },
    {
     "name": "stderr",
     "output_type": "stream",
     "text": [
      "100%|██████████| 34/34 [00:04<00:00,  7.87it/s]\n"
     ]
    },
    {
     "name": "stdout",
     "output_type": "stream",
     "text": [
      "val_loss:  1.0788519431234282\n",
      "val_accuracy:  0.6507352941176471\n",
      "val_f1:  0.7655714587699883\n",
      "---------------------------\n",
      "Epoch 31/60\n",
      "----------\n",
      "PHASE: TRAIN\n",
      "LR 5e-06\n"
     ]
    },
    {
     "name": "stderr",
     "output_type": "stream",
     "text": [
      "100%|██████████| 137/137 [00:15<00:00,  8.76it/s]\n"
     ]
    },
    {
     "name": "stdout",
     "output_type": "stream",
     "text": [
      "PHASE: VAL\n"
     ]
    },
    {
     "name": "stderr",
     "output_type": "stream",
     "text": [
      "100%|██████████| 34/34 [00:04<00:00,  7.85it/s]\n"
     ]
    },
    {
     "name": "stdout",
     "output_type": "stream",
     "text": [
      "Epoch 32/60\n",
      "----------\n",
      "PHASE: TRAIN\n",
      "LR 5e-06\n"
     ]
    },
    {
     "name": "stderr",
     "output_type": "stream",
     "text": [
      "100%|██████████| 137/137 [00:15<00:00,  9.11it/s]\n"
     ]
    },
    {
     "name": "stdout",
     "output_type": "stream",
     "text": [
      "train_loss:  0.8821536341722864\n",
      "train_accuracy:  0.7198905109489051\n",
      "train_f1:  0.7398375043448039\n",
      "---------------------------\n",
      "PHASE: VAL\n"
     ]
    },
    {
     "name": "stderr",
     "output_type": "stream",
     "text": [
      "100%|██████████| 34/34 [00:04<00:00,  7.97it/s]\n"
     ]
    },
    {
     "name": "stdout",
     "output_type": "stream",
     "text": [
      "val_loss:  1.0378791797522675\n",
      "val_accuracy:  0.6544117647058824\n",
      "val_f1:  0.7681633929795696\n",
      "---------------------------\n",
      "Epoch 33/60\n",
      "----------\n",
      "PHASE: TRAIN\n",
      "LR 5e-06\n"
     ]
    },
    {
     "name": "stderr",
     "output_type": "stream",
     "text": [
      "100%|██████████| 137/137 [00:14<00:00,  9.47it/s]\n"
     ]
    },
    {
     "name": "stdout",
     "output_type": "stream",
     "text": [
      "PHASE: VAL\n"
     ]
    },
    {
     "name": "stderr",
     "output_type": "stream",
     "text": [
      "100%|██████████| 34/34 [00:04<00:00,  8.07it/s]\n"
     ]
    },
    {
     "name": "stdout",
     "output_type": "stream",
     "text": [
      "Epoch 34/60\n",
      "----------\n",
      "PHASE: TRAIN\n",
      "LR 5e-06\n"
     ]
    },
    {
     "name": "stderr",
     "output_type": "stream",
     "text": [
      "100%|██████████| 137/137 [00:15<00:00,  8.71it/s]\n"
     ]
    },
    {
     "name": "stdout",
     "output_type": "stream",
     "text": [
      "train_loss:  0.8602106551619342\n",
      "train_accuracy:  0.7144160583941606\n",
      "train_f1:  0.7327815432742442\n",
      "---------------------------\n",
      "PHASE: VAL\n"
     ]
    },
    {
     "name": "stderr",
     "output_type": "stream",
     "text": [
      "100%|██████████| 34/34 [00:04<00:00,  7.97it/s]\n"
     ]
    },
    {
     "name": "stdout",
     "output_type": "stream",
     "text": [
      "val_loss:  1.0419854360139544\n",
      "val_accuracy:  0.6654411764705882\n",
      "val_f1:  0.7693893116687235\n",
      "---------------------------\n",
      "Epoch 35/60\n",
      "----------\n",
      "PHASE: TRAIN\n",
      "LR 5e-06\n"
     ]
    },
    {
     "name": "stderr",
     "output_type": "stream",
     "text": [
      "100%|██████████| 137/137 [00:16<00:00,  8.33it/s]\n"
     ]
    },
    {
     "name": "stdout",
     "output_type": "stream",
     "text": [
      "PHASE: VAL\n"
     ]
    },
    {
     "name": "stderr",
     "output_type": "stream",
     "text": [
      "100%|██████████| 34/34 [00:04<00:00,  8.37it/s]\n"
     ]
    },
    {
     "name": "stdout",
     "output_type": "stream",
     "text": [
      "Epoch 36/60\n",
      "----------\n",
      "PHASE: TRAIN\n",
      "LR 5e-06\n"
     ]
    },
    {
     "name": "stderr",
     "output_type": "stream",
     "text": [
      "100%|██████████| 137/137 [00:15<00:00,  8.66it/s]\n"
     ]
    },
    {
     "name": "stdout",
     "output_type": "stream",
     "text": [
      "train_loss:  0.8501288861471371\n",
      "train_accuracy:  0.7125912408759124\n",
      "train_f1:  0.7373783454987832\n",
      "---------------------------\n",
      "PHASE: VAL\n"
     ]
    },
    {
     "name": "stderr",
     "output_type": "stream",
     "text": [
      "100%|██████████| 34/34 [00:04<00:00,  8.00it/s]\n"
     ]
    },
    {
     "name": "stdout",
     "output_type": "stream",
     "text": [
      "val_loss:  1.0280455560971271\n",
      "val_accuracy:  0.6507352941176471\n",
      "val_f1:  0.76519962880257\n",
      "---------------------------\n",
      "Epoch 37/60\n",
      "----------\n",
      "PHASE: TRAIN\n",
      "LR 5e-06\n"
     ]
    },
    {
     "name": "stderr",
     "output_type": "stream",
     "text": [
      "100%|██████████| 137/137 [00:14<00:00,  9.46it/s]\n"
     ]
    },
    {
     "name": "stdout",
     "output_type": "stream",
     "text": [
      "PHASE: VAL\n"
     ]
    },
    {
     "name": "stderr",
     "output_type": "stream",
     "text": [
      "100%|██████████| 34/34 [00:04<00:00,  8.00it/s]\n"
     ]
    },
    {
     "name": "stdout",
     "output_type": "stream",
     "text": [
      "Epoch 38/60\n",
      "----------\n",
      "PHASE: TRAIN\n",
      "LR 5e-06\n"
     ]
    },
    {
     "name": "stderr",
     "output_type": "stream",
     "text": [
      "100%|██████████| 137/137 [00:15<00:00,  8.81it/s]\n"
     ]
    },
    {
     "name": "stdout",
     "output_type": "stream",
     "text": [
      "train_loss:  0.8256123873004078\n",
      "train_accuracy:  0.7262773722627737\n",
      "train_f1:  0.7475625651720543\n",
      "---------------------------\n",
      "PHASE: VAL\n"
     ]
    },
    {
     "name": "stderr",
     "output_type": "stream",
     "text": [
      "100%|██████████| 34/34 [00:04<00:00,  7.82it/s]\n"
     ]
    },
    {
     "name": "stdout",
     "output_type": "stream",
     "text": [
      "val_loss:  1.0289341938709293\n",
      "val_accuracy:  0.6433823529411765\n",
      "val_f1:  0.7600589361618775\n",
      "---------------------------\n",
      "Epoch 39/60\n",
      "----------\n",
      "PHASE: TRAIN\n",
      "LR 5e-06\n"
     ]
    },
    {
     "name": "stderr",
     "output_type": "stream",
     "text": [
      "100%|██████████| 137/137 [00:15<00:00,  9.05it/s]\n"
     ]
    },
    {
     "name": "stdout",
     "output_type": "stream",
     "text": [
      "PHASE: VAL\n"
     ]
    },
    {
     "name": "stderr",
     "output_type": "stream",
     "text": [
      "100%|██████████| 34/34 [00:04<00:00,  7.77it/s]\n"
     ]
    },
    {
     "name": "stdout",
     "output_type": "stream",
     "text": [
      "Epoch 40/60\n",
      "----------\n",
      "PHASE: TRAIN\n",
      "LR 5e-06\n"
     ]
    },
    {
     "name": "stderr",
     "output_type": "stream",
     "text": [
      "100%|██████████| 137/137 [00:15<00:00,  8.97it/s]\n"
     ]
    },
    {
     "name": "stdout",
     "output_type": "stream",
     "text": [
      "train_loss:  0.8076809840480776\n",
      "train_accuracy:  0.7436131386861314\n",
      "train_f1:  0.762460896767466\n",
      "---------------------------\n",
      "PHASE: VAL\n"
     ]
    },
    {
     "name": "stderr",
     "output_type": "stream",
     "text": [
      "100%|██████████| 34/34 [00:04<00:00,  8.08it/s]\n"
     ]
    },
    {
     "name": "stdout",
     "output_type": "stream",
     "text": [
      "val_loss:  0.9580144277116394\n",
      "val_accuracy:  0.6911764705882353\n",
      "val_f1:  0.7975500194250197\n",
      "---------------------------\n",
      "Epoch 41/60\n",
      "----------\n",
      "PHASE: TRAIN\n",
      "LR 5e-06\n"
     ]
    },
    {
     "name": "stderr",
     "output_type": "stream",
     "text": [
      "100%|██████████| 137/137 [00:15<00:00,  9.11it/s]\n"
     ]
    },
    {
     "name": "stdout",
     "output_type": "stream",
     "text": [
      "PHASE: VAL\n"
     ]
    },
    {
     "name": "stderr",
     "output_type": "stream",
     "text": [
      "100%|██████████| 34/34 [00:04<00:00,  8.08it/s]\n"
     ]
    },
    {
     "name": "stdout",
     "output_type": "stream",
     "text": [
      "Epoch 42/60\n",
      "----------\n",
      "PHASE: TRAIN\n",
      "LR 5e-06\n"
     ]
    },
    {
     "name": "stderr",
     "output_type": "stream",
     "text": [
      "100%|██████████| 137/137 [00:15<00:00,  8.67it/s]\n"
     ]
    },
    {
     "name": "stdout",
     "output_type": "stream",
     "text": [
      "train_loss:  0.8183934239357927\n",
      "train_accuracy:  0.7290145985401459\n",
      "train_f1:  0.7548357664233575\n",
      "---------------------------\n",
      "PHASE: VAL\n"
     ]
    },
    {
     "name": "stderr",
     "output_type": "stream",
     "text": [
      "100%|██████████| 34/34 [00:04<00:00,  7.80it/s]\n"
     ]
    },
    {
     "name": "stdout",
     "output_type": "stream",
     "text": [
      "val_loss:  0.9698436447857496\n",
      "val_accuracy:  0.6801470588235294\n",
      "val_f1:  0.7927647719927134\n",
      "---------------------------\n",
      "Epoch 43/60\n",
      "----------\n",
      "PHASE: TRAIN\n",
      "LR 5e-06\n"
     ]
    },
    {
     "name": "stderr",
     "output_type": "stream",
     "text": [
      "100%|██████████| 137/137 [00:16<00:00,  8.26it/s]\n"
     ]
    },
    {
     "name": "stdout",
     "output_type": "stream",
     "text": [
      "PHASE: VAL\n"
     ]
    },
    {
     "name": "stderr",
     "output_type": "stream",
     "text": [
      "100%|██████████| 34/34 [00:04<00:00,  7.91it/s]\n"
     ]
    },
    {
     "name": "stdout",
     "output_type": "stream",
     "text": [
      "Epoch 44/60\n",
      "----------\n",
      "PHASE: TRAIN\n",
      "LR 5e-06\n"
     ]
    },
    {
     "name": "stderr",
     "output_type": "stream",
     "text": [
      "100%|██████████| 137/137 [00:15<00:00,  8.92it/s]\n"
     ]
    },
    {
     "name": "stdout",
     "output_type": "stream",
     "text": [
      "train_loss:  0.7942051840742139\n",
      "train_accuracy:  0.75\n",
      "train_f1:  0.7691214807090722\n",
      "---------------------------\n",
      "PHASE: VAL\n"
     ]
    },
    {
     "name": "stderr",
     "output_type": "stream",
     "text": [
      "100%|██████████| 34/34 [00:04<00:00,  7.88it/s]\n"
     ]
    },
    {
     "name": "stdout",
     "output_type": "stream",
     "text": [
      "val_loss:  0.9062040082096834\n",
      "val_accuracy:  0.6985294117647058\n",
      "val_f1:  0.8039366270983921\n",
      "---------------------------\n",
      "Epoch 45/60\n",
      "----------\n",
      "PHASE: TRAIN\n",
      "LR 5e-06\n"
     ]
    },
    {
     "name": "stderr",
     "output_type": "stream",
     "text": [
      "100%|██████████| 137/137 [00:15<00:00,  8.78it/s]\n"
     ]
    },
    {
     "name": "stdout",
     "output_type": "stream",
     "text": [
      "PHASE: VAL\n"
     ]
    },
    {
     "name": "stderr",
     "output_type": "stream",
     "text": [
      "100%|██████████| 34/34 [00:04<00:00,  7.83it/s]\n"
     ]
    },
    {
     "name": "stdout",
     "output_type": "stream",
     "text": [
      "Epoch 46/60\n",
      "----------\n",
      "PHASE: TRAIN\n",
      "LR 5e-06\n"
     ]
    },
    {
     "name": "stderr",
     "output_type": "stream",
     "text": [
      "100%|██████████| 137/137 [00:15<00:00,  9.04it/s]\n"
     ]
    },
    {
     "name": "stdout",
     "output_type": "stream",
     "text": [
      "train_loss:  0.8066414155229165\n",
      "train_accuracy:  0.739963503649635\n",
      "train_f1:  0.76406340516742\n",
      "---------------------------\n",
      "PHASE: VAL\n"
     ]
    },
    {
     "name": "stderr",
     "output_type": "stream",
     "text": [
      "100%|██████████| 34/34 [00:04<00:00,  7.98it/s]\n"
     ]
    },
    {
     "name": "stdout",
     "output_type": "stream",
     "text": [
      "val_loss:  0.9604227829738247\n",
      "val_accuracy:  0.6948529411764706\n",
      "val_f1:  0.8024563263533855\n",
      "---------------------------\n",
      "Epoch 47/60\n",
      "----------\n",
      "PHASE: TRAIN\n",
      "LR 5e-06\n"
     ]
    },
    {
     "name": "stderr",
     "output_type": "stream",
     "text": [
      "100%|██████████| 137/137 [00:16<00:00,  8.48it/s]\n"
     ]
    },
    {
     "name": "stdout",
     "output_type": "stream",
     "text": [
      "PHASE: VAL\n"
     ]
    },
    {
     "name": "stderr",
     "output_type": "stream",
     "text": [
      "100%|██████████| 34/34 [00:04<00:00,  8.03it/s]\n"
     ]
    },
    {
     "name": "stdout",
     "output_type": "stream",
     "text": [
      "Epoch 48/60\n",
      "----------\n",
      "PHASE: TRAIN\n",
      "LR 5e-06\n"
     ]
    },
    {
     "name": "stderr",
     "output_type": "stream",
     "text": [
      "100%|██████████| 137/137 [00:15<00:00,  8.75it/s]\n"
     ]
    },
    {
     "name": "stdout",
     "output_type": "stream",
     "text": [
      "train_loss:  0.7462302928205824\n",
      "train_accuracy:  0.7536496350364964\n",
      "train_f1:  0.7708680917622525\n",
      "---------------------------\n",
      "PHASE: VAL\n"
     ]
    },
    {
     "name": "stderr",
     "output_type": "stream",
     "text": [
      "100%|██████████| 34/34 [00:04<00:00,  7.95it/s]\n"
     ]
    },
    {
     "name": "stdout",
     "output_type": "stream",
     "text": [
      "val_loss:  0.9103416188907645\n",
      "val_accuracy:  0.7205882352941176\n",
      "val_f1:  0.8221068963716025\n",
      "---------------------------\n",
      "Epoch 49/60\n",
      "----------\n",
      "PHASE: TRAIN\n",
      "LR 5e-06\n"
     ]
    },
    {
     "name": "stderr",
     "output_type": "stream",
     "text": [
      "100%|██████████| 137/137 [00:15<00:00,  9.09it/s]\n"
     ]
    },
    {
     "name": "stdout",
     "output_type": "stream",
     "text": [
      "PHASE: VAL\n"
     ]
    },
    {
     "name": "stderr",
     "output_type": "stream",
     "text": [
      "100%|██████████| 34/34 [00:04<00:00,  7.70it/s]\n"
     ]
    },
    {
     "name": "stdout",
     "output_type": "stream",
     "text": [
      "Epoch 50/60\n",
      "----------\n",
      "PHASE: TRAIN\n",
      "LR 5e-06\n"
     ]
    },
    {
     "name": "stderr",
     "output_type": "stream",
     "text": [
      "100%|██████████| 137/137 [00:15<00:00,  8.78it/s]\n"
     ]
    },
    {
     "name": "stdout",
     "output_type": "stream",
     "text": [
      "train_loss:  0.7430732056607295\n",
      "train_accuracy:  0.7609489051094891\n",
      "train_f1:  0.7863616614529025\n",
      "---------------------------\n",
      "PHASE: VAL\n"
     ]
    },
    {
     "name": "stderr",
     "output_type": "stream",
     "text": [
      "100%|██████████| 34/34 [00:04<00:00,  7.85it/s]\n"
     ]
    },
    {
     "name": "stdout",
     "output_type": "stream",
     "text": [
      "val_loss:  0.9208469860502245\n",
      "val_accuracy:  0.6911764705882353\n",
      "val_f1:  0.7972842108871523\n",
      "---------------------------\n",
      "Epoch 51/60\n",
      "----------\n",
      "PHASE: TRAIN\n",
      "LR 5e-06\n"
     ]
    },
    {
     "name": "stderr",
     "output_type": "stream",
     "text": [
      "100%|██████████| 137/137 [00:15<00:00,  9.00it/s]\n"
     ]
    },
    {
     "name": "stdout",
     "output_type": "stream",
     "text": [
      "PHASE: VAL\n"
     ]
    },
    {
     "name": "stderr",
     "output_type": "stream",
     "text": [
      "100%|██████████| 34/34 [00:04<00:00,  8.00it/s]\n"
     ]
    },
    {
     "name": "stdout",
     "output_type": "stream",
     "text": [
      "Epoch 52/60\n",
      "----------\n",
      "PHASE: TRAIN\n",
      "LR 5e-06\n"
     ]
    },
    {
     "name": "stderr",
     "output_type": "stream",
     "text": [
      "100%|██████████| 137/137 [00:15<00:00,  8.68it/s]\n"
     ]
    },
    {
     "name": "stdout",
     "output_type": "stream",
     "text": [
      "train_loss:  0.7072346983817372\n",
      "train_accuracy:  0.7655109489051095\n",
      "train_f1:  0.7835636079249217\n",
      "---------------------------\n",
      "PHASE: VAL\n"
     ]
    },
    {
     "name": "stderr",
     "output_type": "stream",
     "text": [
      "100%|██████████| 34/34 [00:04<00:00,  7.95it/s]\n"
     ]
    },
    {
     "name": "stdout",
     "output_type": "stream",
     "text": [
      "val_loss:  0.8822492328198517\n",
      "val_accuracy:  0.7058823529411765\n",
      "val_f1:  0.8116101627131042\n",
      "---------------------------\n",
      "Epoch 53/60\n",
      "----------\n",
      "PHASE: TRAIN\n",
      "LR 5e-06\n"
     ]
    },
    {
     "name": "stderr",
     "output_type": "stream",
     "text": [
      "100%|██████████| 137/137 [00:15<00:00,  8.91it/s]\n"
     ]
    },
    {
     "name": "stdout",
     "output_type": "stream",
     "text": [
      "PHASE: VAL\n"
     ]
    },
    {
     "name": "stderr",
     "output_type": "stream",
     "text": [
      "100%|██████████| 34/34 [00:04<00:00,  8.03it/s]\n"
     ]
    },
    {
     "name": "stdout",
     "output_type": "stream",
     "text": [
      "Epoch 54/60\n",
      "----------\n",
      "PHASE: TRAIN\n",
      "LR 5e-06\n"
     ]
    },
    {
     "name": "stderr",
     "output_type": "stream",
     "text": [
      "100%|██████████| 137/137 [00:15<00:00,  8.93it/s]\n"
     ]
    },
    {
     "name": "stdout",
     "output_type": "stream",
     "text": [
      "train_loss:  0.7404142470255385\n",
      "train_accuracy:  0.7609489051094891\n",
      "train_f1:  0.784454292665971\n",
      "---------------------------\n",
      "PHASE: VAL\n"
     ]
    },
    {
     "name": "stderr",
     "output_type": "stream",
     "text": [
      "100%|██████████| 34/34 [00:04<00:00,  7.87it/s]\n"
     ]
    },
    {
     "name": "stdout",
     "output_type": "stream",
     "text": [
      "val_loss:  0.9311241893755162\n",
      "val_accuracy:  0.6875\n",
      "val_f1:  0.7969413756178463\n",
      "---------------------------\n",
      "Epoch 55/60\n",
      "----------\n",
      "PHASE: TRAIN\n",
      "LR 5e-06\n"
     ]
    },
    {
     "name": "stderr",
     "output_type": "stream",
     "text": [
      "100%|██████████| 137/137 [00:15<00:00,  9.04it/s]\n"
     ]
    },
    {
     "name": "stdout",
     "output_type": "stream",
     "text": [
      "PHASE: VAL\n"
     ]
    },
    {
     "name": "stderr",
     "output_type": "stream",
     "text": [
      "100%|██████████| 34/34 [00:04<00:00,  7.91it/s]\n"
     ]
    },
    {
     "name": "stdout",
     "output_type": "stream",
     "text": [
      "Epoch 56/60\n",
      "----------\n",
      "PHASE: TRAIN\n",
      "LR 5e-06\n"
     ]
    },
    {
     "name": "stderr",
     "output_type": "stream",
     "text": [
      "100%|██████████| 137/137 [00:14<00:00,  9.33it/s]\n"
     ]
    },
    {
     "name": "stdout",
     "output_type": "stream",
     "text": [
      "train_loss:  0.6934971982327691\n",
      "train_accuracy:  0.7864963503649635\n",
      "train_f1:  0.8108185610010428\n",
      "---------------------------\n",
      "PHASE: VAL\n"
     ]
    },
    {
     "name": "stderr",
     "output_type": "stream",
     "text": [
      "100%|██████████| 34/34 [00:04<00:00,  7.80it/s]\n"
     ]
    },
    {
     "name": "stdout",
     "output_type": "stream",
     "text": [
      "val_loss:  0.9358630809549462\n",
      "val_accuracy:  0.6875\n",
      "val_f1:  0.7922975717093366\n",
      "---------------------------\n",
      "Epoch 57/60\n",
      "----------\n",
      "PHASE: TRAIN\n",
      "LR 5e-06\n"
     ]
    },
    {
     "name": "stderr",
     "output_type": "stream",
     "text": [
      "100%|██████████| 137/137 [00:15<00:00,  8.78it/s]\n"
     ]
    },
    {
     "name": "stdout",
     "output_type": "stream",
     "text": [
      "PHASE: VAL\n"
     ]
    },
    {
     "name": "stderr",
     "output_type": "stream",
     "text": [
      "100%|██████████| 34/34 [00:04<00:00,  7.87it/s]\n"
     ]
    },
    {
     "name": "stdout",
     "output_type": "stream",
     "text": [
      "Epoch 58/60\n",
      "----------\n",
      "PHASE: TRAIN\n",
      "LR 5e-06\n"
     ]
    },
    {
     "name": "stderr",
     "output_type": "stream",
     "text": [
      "100%|██████████| 137/137 [00:14<00:00,  9.67it/s]\n"
     ]
    },
    {
     "name": "stdout",
     "output_type": "stream",
     "text": [
      "train_loss:  0.6595278287673518\n",
      "train_accuracy:  0.801094890510949\n",
      "train_f1:  0.8198514077163717\n",
      "---------------------------\n",
      "PHASE: VAL\n"
     ]
    },
    {
     "name": "stderr",
     "output_type": "stream",
     "text": [
      "100%|██████████| 34/34 [00:04<00:00,  8.00it/s]\n"
     ]
    },
    {
     "name": "stdout",
     "output_type": "stream",
     "text": [
      "val_loss:  0.8617151107036454\n",
      "val_accuracy:  0.7022058823529411\n",
      "val_f1:  0.8097375255463493\n",
      "---------------------------\n",
      "Epoch 59/60\n",
      "----------\n",
      "PHASE: TRAIN\n",
      "LR 5e-06\n"
     ]
    },
    {
     "name": "stderr",
     "output_type": "stream",
     "text": [
      "100%|██████████| 137/137 [00:16<00:00,  8.49it/s]\n"
     ]
    },
    {
     "name": "stdout",
     "output_type": "stream",
     "text": [
      "PHASE: VAL\n"
     ]
    },
    {
     "name": "stderr",
     "output_type": "stream",
     "text": [
      "100%|██████████| 34/34 [00:04<00:00,  7.77it/s]\n"
     ]
    },
    {
     "name": "stdout",
     "output_type": "stream",
     "text": [
      "Epoch 60/60\n",
      "----------\n",
      "PHASE: TRAIN\n",
      "LR 2.5e-06\n"
     ]
    },
    {
     "name": "stderr",
     "output_type": "stream",
     "text": [
      "100%|██████████| 137/137 [00:16<00:00,  8.56it/s]\n"
     ]
    },
    {
     "name": "stdout",
     "output_type": "stream",
     "text": [
      "train_loss:  0.6623027522633546\n",
      "train_accuracy:  0.7928832116788321\n",
      "train_f1:  0.8192301007994439\n",
      "---------------------------\n",
      "PHASE: VAL\n"
     ]
    },
    {
     "name": "stderr",
     "output_type": "stream",
     "text": [
      "100%|██████████| 34/34 [00:04<00:00,  8.06it/s]\n"
     ]
    },
    {
     "name": "stdout",
     "output_type": "stream",
     "text": [
      "val_loss:  0.8917186202974442\n",
      "val_accuracy:  0.7279411764705882\n",
      "val_f1:  0.8262250821074353\n",
      "---------------------------\n"
     ]
    }
   ],
   "source": [
    "train_params = {\n",
    "    'start_lr': 1e-5,\n",
    "    'scheduler_step_size': 30,\n",
    "    'scheduler_gamma': 0.5,\n",
    "    'num_epochs': 60,\n",
    "    'every_epoch': 2,\n",
    "}\n",
    "\n",
    "optimizer_ft = optim.Adam(filter(lambda p: p.requires_grad, resnet18.parameters()), \n",
    "                          lr=train_params['start_lr'])\n",
    "\n",
    "exp_lr_scheduler = lr_scheduler.StepLR(optimizer_ft, \n",
    "                                       step_size=train_params['scheduler_step_size'], \n",
    "                                       gamma=train_params['scheduler_gamma'])\n",
    "loss_func = nn.CrossEntropyLoss()\n",
    "\n",
    "resnet18, train_history, val_history = train_model(resnet18, 'resnet_weights', optimizer_ft, \n",
    "                                                loss_func, exp_lr_scheduler, \n",
    "                                                num_epochs=train_params['num_epochs'],\n",
    "                                                every_epoch = train_params['every_epoch'])"
   ]
  },
  {
   "cell_type": "code",
   "execution_count": 15,
   "id": "3f314e62",
   "metadata": {},
   "outputs": [],
   "source": [
    "x = np.arange(1, 31)*2"
   ]
  },
  {
   "cell_type": "code",
   "execution_count": 16,
   "id": "4d1fb3e1",
   "metadata": {},
   "outputs": [
    {
     "data": {
      "image/png": "[encoded data removed]",
      "text/plain": [
       "<Figure size 1296x360 with 3 Axes>"
      ]
     },
     "metadata": {
      "needs_background": "light"
     },
     "output_type": "display_data"
    }
   ],
   "source": [
    "fig, axs = plt.subplots(1, 3, figsize=(18, 5))\n",
    "fig.suptitle(\"Learning curves\")\n",
    "axs[0].plot(x, train_history['loss'], 'r', label = 'train')\n",
    "axs[0].plot(x, val_history['loss'], 'b', label = 'val')\n",
    "axs[0].legend(loc=\"upper right\")\n",
    "axs[0].set_title(\"Loss\")\n",
    "axs[1].plot(x, train_history['accuracy'], 'r', label = 'train')\n",
    "axs[1].plot(x, val_history['accuracy'], 'b', label = 'val')\n",
    "axs[1].legend(loc=\"upper right\")\n",
    "axs[1].set_title(\"Accuracy\")\n",
    "axs[2].plot(x, train_history['f1'], 'r', label = 'train')\n",
    "axs[2].plot(x, val_history['f1'], 'b', label = 'val')\n",
    "axs[2].legend(loc=\"upper right\")\n",
    "axs[2].set_title(\"F1-score\")\n",
    "None"
   ]
  },
  {
   "cell_type": "markdown",
   "id": "6d7b19aa",
   "metadata": {},
   "source": [
    "Модель, возможно, не доучилась, но на данном этапе она явно уступает VGG16"
   ]
  },
  {
   "cell_type": "markdown",
   "id": "8a144bfe",
   "metadata": {},
   "source": [
    "## EfficientNet"
   ]
  },
  {
   "cell_type": "code",
   "execution_count": 13,
   "id": "31a9dade",
   "metadata": {},
   "outputs": [],
   "source": [
    "effnet = models.efficientnet_b0(weights=None)\n",
    "effnet.apply(weights_init_uniform)\n",
    "effnet.to(device)\n",
    "None"
   ]
  },
  {
   "cell_type": "code",
   "execution_count": 14,
   "id": "273dbc53",
   "metadata": {},
   "outputs": [
    {
     "name": "stderr",
     "output_type": "stream",
     "text": [
      "/home/user/conda/lib/python3.7/site-packages/torch/optim/lr_scheduler.py:143: UserWarning: Detected call of `lr_scheduler.step()` before `optimizer.step()`. In PyTorch 1.1.0 and later, you should call them in the opposite order: `optimizer.step()` before `lr_scheduler.step()`.  Failure to do this will result in PyTorch skipping the first value of the learning rate schedule. See more details at https://pytorch.org/docs/stable/optim.html#how-to-adjust-learning-rate\n",
      "  \"https://pytorch.org/docs/stable/optim.html#how-to-adjust-learning-rate\", UserWarning)\n"
     ]
    },
    {
     "name": "stdout",
     "output_type": "stream",
     "text": [
      "Epoch 1/60\n",
      "----------\n",
      "PHASE: TRAIN\n",
      "LR 0.0001\n"
     ]
    },
    {
     "name": "stderr",
     "output_type": "stream",
     "text": [
      "100%|██████████| 137/137 [00:17<00:00,  7.98it/s]\n"
     ]
    },
    {
     "name": "stdout",
     "output_type": "stream",
     "text": [
      "PHASE: VAL\n"
     ]
    },
    {
     "name": "stderr",
     "output_type": "stream",
     "text": [
      "100%|██████████| 34/34 [00:04<00:00,  8.11it/s]\n"
     ]
    },
    {
     "name": "stdout",
     "output_type": "stream",
     "text": [
      "Epoch 2/60\n",
      "----------\n",
      "PHASE: TRAIN\n",
      "LR 0.0001\n"
     ]
    },
    {
     "name": "stderr",
     "output_type": "stream",
     "text": [
      "100%|██████████| 137/137 [00:15<00:00,  8.68it/s]\n"
     ]
    },
    {
     "name": "stdout",
     "output_type": "stream",
     "text": [
      "train_loss:  2.394498377820871\n",
      "train_accuracy:  0.23266423357664234\n",
      "train_f1:  0.2316605839416058\n",
      "---------------------------\n",
      "PHASE: VAL\n"
     ]
    },
    {
     "name": "stderr",
     "output_type": "stream",
     "text": [
      "100%|██████████| 34/34 [00:04<00:00,  7.97it/s]\n"
     ]
    },
    {
     "name": "stdout",
     "output_type": "stream",
     "text": [
      "val_loss:  2.4600756939719703\n",
      "val_accuracy:  0.3088235294117647\n",
      "val_f1:  0.41950127078803545\n",
      "---------------------------\n",
      "Epoch 3/60\n",
      "----------\n",
      "PHASE: TRAIN\n",
      "LR 0.0001\n"
     ]
    },
    {
     "name": "stderr",
     "output_type": "stream",
     "text": [
      "100%|██████████| 137/137 [00:16<00:00,  8.51it/s]\n"
     ]
    },
    {
     "name": "stdout",
     "output_type": "stream",
     "text": [
      "PHASE: VAL\n"
     ]
    },
    {
     "name": "stderr",
     "output_type": "stream",
     "text": [
      "100%|██████████| 34/34 [00:04<00:00,  7.91it/s]\n"
     ]
    },
    {
     "name": "stdout",
     "output_type": "stream",
     "text": [
      "Epoch 4/60\n",
      "----------\n",
      "PHASE: TRAIN\n",
      "LR 0.0001\n"
     ]
    },
    {
     "name": "stderr",
     "output_type": "stream",
     "text": [
      "100%|██████████| 137/137 [00:15<00:00,  8.99it/s]\n"
     ]
    },
    {
     "name": "stdout",
     "output_type": "stream",
     "text": [
      "train_loss:  1.8784377174655886\n",
      "train_accuracy:  0.33211678832116787\n",
      "train_f1:  0.34131473757386166\n",
      "---------------------------\n",
      "PHASE: VAL\n"
     ]
    },
    {
     "name": "stderr",
     "output_type": "stream",
     "text": [
      "100%|██████████| 34/34 [00:04<00:00,  7.96it/s]\n"
     ]
    },
    {
     "name": "stdout",
     "output_type": "stream",
     "text": [
      "val_loss:  1.8715333079590517\n",
      "val_accuracy:  0.38235294117647056\n",
      "val_f1:  0.5075424779468896\n",
      "---------------------------\n",
      "Epoch 5/60\n",
      "----------\n",
      "PHASE: TRAIN\n",
      "LR 0.0001\n"
     ]
    },
    {
     "name": "stderr",
     "output_type": "stream",
     "text": [
      "100%|██████████| 137/137 [00:15<00:00,  8.89it/s]\n"
     ]
    },
    {
     "name": "stdout",
     "output_type": "stream",
     "text": [
      "PHASE: VAL\n"
     ]
    },
    {
     "name": "stderr",
     "output_type": "stream",
     "text": [
      "100%|██████████| 34/34 [00:04<00:00,  7.78it/s]\n"
     ]
    },
    {
     "name": "stdout",
     "output_type": "stream",
     "text": [
      "Epoch 6/60\n",
      "----------\n",
      "PHASE: TRAIN\n",
      "LR 0.0001\n"
     ]
    },
    {
     "name": "stderr",
     "output_type": "stream",
     "text": [
      "100%|██████████| 137/137 [00:15<00:00,  8.68it/s]\n"
     ]
    },
    {
     "name": "stdout",
     "output_type": "stream",
     "text": [
      "train_loss:  1.666062306313619\n",
      "train_accuracy:  0.40693430656934304\n",
      "train_f1:  0.42360097323600965\n",
      "---------------------------\n",
      "PHASE: VAL\n"
     ]
    },
    {
     "name": "stderr",
     "output_type": "stream",
     "text": [
      "100%|██████████| 34/34 [00:04<00:00,  8.09it/s]\n"
     ]
    },
    {
     "name": "stdout",
     "output_type": "stream",
     "text": [
      "val_loss:  1.5968892280669773\n",
      "val_accuracy:  0.4632352941176471\n",
      "val_f1:  0.5668198427389604\n",
      "---------------------------\n",
      "Epoch 7/60\n",
      "----------\n",
      "PHASE: TRAIN\n",
      "LR 0.0001\n"
     ]
    },
    {
     "name": "stderr",
     "output_type": "stream",
     "text": [
      "100%|██████████| 137/137 [00:15<00:00,  8.85it/s]\n"
     ]
    },
    {
     "name": "stdout",
     "output_type": "stream",
     "text": [
      "PHASE: VAL\n"
     ]
    },
    {
     "name": "stderr",
     "output_type": "stream",
     "text": [
      "100%|██████████| 34/34 [00:04<00:00,  8.00it/s]\n"
     ]
    },
    {
     "name": "stdout",
     "output_type": "stream",
     "text": [
      "Epoch 8/60\n",
      "----------\n",
      "PHASE: TRAIN\n",
      "LR 0.0001\n"
     ]
    },
    {
     "name": "stderr",
     "output_type": "stream",
     "text": [
      "100%|██████████| 137/137 [00:15<00:00,  8.82it/s]\n"
     ]
    },
    {
     "name": "stdout",
     "output_type": "stream",
     "text": [
      "train_loss:  1.4533443703268567\n",
      "train_accuracy:  0.46441605839416056\n",
      "train_f1:  0.4837591240875913\n",
      "---------------------------\n",
      "PHASE: VAL\n"
     ]
    },
    {
     "name": "stderr",
     "output_type": "stream",
     "text": [
      "100%|██████████| 34/34 [00:04<00:00,  8.17it/s]\n"
     ]
    },
    {
     "name": "stdout",
     "output_type": "stream",
     "text": [
      "val_loss:  1.2373452542678398\n",
      "val_accuracy:  0.5588235294117647\n",
      "val_f1:  0.6731981662128724\n",
      "---------------------------\n",
      "Epoch 9/60\n",
      "----------\n",
      "PHASE: TRAIN\n",
      "LR 0.0001\n"
     ]
    },
    {
     "name": "stderr",
     "output_type": "stream",
     "text": [
      "100%|██████████| 137/137 [00:15<00:00,  8.67it/s]\n"
     ]
    },
    {
     "name": "stdout",
     "output_type": "stream",
     "text": [
      "PHASE: VAL\n"
     ]
    },
    {
     "name": "stderr",
     "output_type": "stream",
     "text": [
      "100%|██████████| 34/34 [00:04<00:00,  8.09it/s]\n"
     ]
    },
    {
     "name": "stdout",
     "output_type": "stream",
     "text": [
      "Epoch 10/60\n",
      "----------\n",
      "PHASE: TRAIN\n",
      "LR 0.0001\n"
     ]
    },
    {
     "name": "stderr",
     "output_type": "stream",
     "text": [
      "100%|██████████| 137/137 [00:16<00:00,  8.54it/s]\n"
     ]
    },
    {
     "name": "stdout",
     "output_type": "stream",
     "text": [
      "train_loss:  1.3592259857776392\n",
      "train_accuracy:  0.5109489051094891\n",
      "train_f1:  0.5235401459854012\n",
      "---------------------------\n",
      "PHASE: VAL\n"
     ]
    },
    {
     "name": "stderr",
     "output_type": "stream",
     "text": [
      "100%|██████████| 34/34 [00:04<00:00,  7.71it/s]\n"
     ]
    },
    {
     "name": "stdout",
     "output_type": "stream",
     "text": [
      "val_loss:  1.0900509587543852\n",
      "val_accuracy:  0.6397058823529411\n",
      "val_f1:  0.7422026910997501\n",
      "---------------------------\n",
      "Epoch 11/60\n",
      "----------\n",
      "PHASE: TRAIN\n",
      "LR 0.0001\n"
     ]
    },
    {
     "name": "stderr",
     "output_type": "stream",
     "text": [
      "100%|██████████| 137/137 [00:16<00:00,  8.48it/s]\n"
     ]
    },
    {
     "name": "stdout",
     "output_type": "stream",
     "text": [
      "PHASE: VAL\n"
     ]
    },
    {
     "name": "stderr",
     "output_type": "stream",
     "text": [
      "100%|██████████| 34/34 [00:04<00:00,  7.83it/s]\n"
     ]
    },
    {
     "name": "stdout",
     "output_type": "stream",
     "text": [
      "Epoch 12/60\n",
      "----------\n",
      "PHASE: TRAIN\n",
      "LR 0.0001\n"
     ]
    },
    {
     "name": "stderr",
     "output_type": "stream",
     "text": [
      "100%|██████████| 137/137 [00:16<00:00,  8.54it/s]\n"
     ]
    },
    {
     "name": "stdout",
     "output_type": "stream",
     "text": [
      "train_loss:  1.1550396023875606\n",
      "train_accuracy:  0.5875912408759124\n",
      "train_f1:  0.6100625651720544\n",
      "---------------------------\n",
      "PHASE: VAL\n"
     ]
    },
    {
     "name": "stderr",
     "output_type": "stream",
     "text": [
      "100%|██████████| 34/34 [00:04<00:00,  8.04it/s]\n"
     ]
    },
    {
     "name": "stdout",
     "output_type": "stream",
     "text": [
      "val_loss:  0.9582249268012888\n",
      "val_accuracy:  0.6727941176470589\n",
      "val_f1:  0.7763207380854441\n",
      "---------------------------\n",
      "Epoch 13/60\n",
      "----------\n",
      "PHASE: TRAIN\n",
      "LR 0.0001\n"
     ]
    },
    {
     "name": "stderr",
     "output_type": "stream",
     "text": [
      "100%|██████████| 137/137 [00:15<00:00,  8.77it/s]\n"
     ]
    },
    {
     "name": "stdout",
     "output_type": "stream",
     "text": [
      "PHASE: VAL\n"
     ]
    },
    {
     "name": "stderr",
     "output_type": "stream",
     "text": [
      "100%|██████████| 34/34 [00:04<00:00,  8.01it/s]\n"
     ]
    },
    {
     "name": "stdout",
     "output_type": "stream",
     "text": [
      "Epoch 14/60\n",
      "----------\n",
      "PHASE: TRAIN\n",
      "LR 0.0001\n"
     ]
    },
    {
     "name": "stderr",
     "output_type": "stream",
     "text": [
      "100%|██████████| 137/137 [00:15<00:00,  8.90it/s]\n"
     ]
    },
    {
     "name": "stdout",
     "output_type": "stream",
     "text": [
      "train_loss:  1.078846069147987\n",
      "train_accuracy:  0.6021897810218978\n",
      "train_f1:  0.6264424748001391\n",
      "---------------------------\n",
      "PHASE: VAL\n"
     ]
    },
    {
     "name": "stderr",
     "output_type": "stream",
     "text": [
      "100%|██████████| 34/34 [00:04<00:00,  8.15it/s]\n"
     ]
    },
    {
     "name": "stdout",
     "output_type": "stream",
     "text": [
      "val_loss:  0.9863503858008805\n",
      "val_accuracy:  0.6764705882352942\n",
      "val_f1:  0.7738026679203152\n",
      "---------------------------\n",
      "Epoch 15/60\n",
      "----------\n",
      "PHASE: TRAIN\n",
      "LR 0.0001\n"
     ]
    },
    {
     "name": "stderr",
     "output_type": "stream",
     "text": [
      "100%|██████████| 137/137 [00:15<00:00,  9.02it/s]\n"
     ]
    },
    {
     "name": "stdout",
     "output_type": "stream",
     "text": [
      "PHASE: VAL\n"
     ]
    },
    {
     "name": "stderr",
     "output_type": "stream",
     "text": [
      "100%|██████████| 34/34 [00:04<00:00,  8.01it/s]\n"
     ]
    },
    {
     "name": "stdout",
     "output_type": "stream",
     "text": [
      "Epoch 16/60\n",
      "----------\n",
      "PHASE: TRAIN\n",
      "LR 0.0001\n"
     ]
    },
    {
     "name": "stderr",
     "output_type": "stream",
     "text": [
      "100%|██████████| 137/137 [00:15<00:00,  8.89it/s]\n"
     ]
    },
    {
     "name": "stdout",
     "output_type": "stream",
     "text": [
      "train_loss:  0.8975735867980623\n",
      "train_accuracy:  0.6843065693430657\n",
      "train_f1:  0.7057872784150153\n",
      "---------------------------\n",
      "PHASE: VAL\n"
     ]
    },
    {
     "name": "stderr",
     "output_type": "stream",
     "text": [
      "100%|██████████| 34/34 [00:04<00:00,  7.93it/s]\n"
     ]
    },
    {
     "name": "stdout",
     "output_type": "stream",
     "text": [
      "val_loss:  0.7720541219391367\n",
      "val_accuracy:  0.7242647058823529\n",
      "val_f1:  0.8151579629520808\n",
      "---------------------------\n",
      "Epoch 17/60\n",
      "----------\n",
      "PHASE: TRAIN\n",
      "LR 0.0001\n"
     ]
    },
    {
     "name": "stderr",
     "output_type": "stream",
     "text": [
      "100%|██████████| 137/137 [00:15<00:00,  8.77it/s]\n"
     ]
    },
    {
     "name": "stdout",
     "output_type": "stream",
     "text": [
      "PHASE: VAL\n"
     ]
    },
    {
     "name": "stderr",
     "output_type": "stream",
     "text": [
      "100%|██████████| 34/34 [00:04<00:00,  8.14it/s]\n"
     ]
    },
    {
     "name": "stdout",
     "output_type": "stream",
     "text": [
      "Epoch 18/60\n",
      "----------\n",
      "PHASE: TRAIN\n",
      "LR 0.0001\n"
     ]
    },
    {
     "name": "stderr",
     "output_type": "stream",
     "text": [
      "100%|██████████| 137/137 [00:14<00:00,  9.37it/s]\n"
     ]
    },
    {
     "name": "stdout",
     "output_type": "stream",
     "text": [
      "train_loss:  0.8486959229420571\n",
      "train_accuracy:  0.708029197080292\n",
      "train_f1:  0.7332725060827253\n",
      "---------------------------\n",
      "PHASE: VAL\n"
     ]
    },
    {
     "name": "stderr",
     "output_type": "stream",
     "text": [
      "100%|██████████| 34/34 [00:04<00:00,  8.04it/s]\n"
     ]
    },
    {
     "name": "stdout",
     "output_type": "stream",
     "text": [
      "val_loss:  0.7597109179341179\n",
      "val_accuracy:  0.7316176470588235\n",
      "val_f1:  0.8150655308743547\n",
      "---------------------------\n",
      "Epoch 19/60\n",
      "----------\n",
      "PHASE: TRAIN\n",
      "LR 0.0001\n"
     ]
    },
    {
     "name": "stderr",
     "output_type": "stream",
     "text": [
      "100%|██████████| 137/137 [00:14<00:00,  9.26it/s]\n"
     ]
    },
    {
     "name": "stdout",
     "output_type": "stream",
     "text": [
      "PHASE: VAL\n"
     ]
    },
    {
     "name": "stderr",
     "output_type": "stream",
     "text": [
      "100%|██████████| 34/34 [00:04<00:00,  7.92it/s]\n"
     ]
    },
    {
     "name": "stdout",
     "output_type": "stream",
     "text": [
      "Epoch 20/60\n",
      "----------\n",
      "PHASE: TRAIN\n",
      "LR 5e-05\n"
     ]
    },
    {
     "name": "stderr",
     "output_type": "stream",
     "text": [
      "100%|██████████| 137/137 [00:15<00:00,  8.92it/s]\n"
     ]
    },
    {
     "name": "stdout",
     "output_type": "stream",
     "text": [
      "train_loss:  0.6685405199545144\n",
      "train_accuracy:  0.7627737226277372\n",
      "train_f1:  0.7838460201598889\n",
      "---------------------------\n",
      "PHASE: VAL\n"
     ]
    },
    {
     "name": "stderr",
     "output_type": "stream",
     "text": [
      "100%|██████████| 34/34 [00:04<00:00,  7.89it/s]\n"
     ]
    },
    {
     "name": "stdout",
     "output_type": "stream",
     "text": [
      "val_loss:  0.6857374723014587\n",
      "val_accuracy:  0.7757352941176471\n",
      "val_f1:  0.8527940197057846\n",
      "---------------------------\n",
      "Epoch 21/60\n",
      "----------\n",
      "PHASE: TRAIN\n",
      "LR 5e-05\n"
     ]
    },
    {
     "name": "stderr",
     "output_type": "stream",
     "text": [
      "100%|██████████| 137/137 [00:15<00:00,  8.63it/s]\n"
     ]
    },
    {
     "name": "stdout",
     "output_type": "stream",
     "text": [
      "PHASE: VAL\n"
     ]
    },
    {
     "name": "stderr",
     "output_type": "stream",
     "text": [
      "100%|██████████| 34/34 [00:04<00:00,  8.18it/s]\n"
     ]
    },
    {
     "name": "stdout",
     "output_type": "stream",
     "text": [
      "Epoch 22/60\n",
      "----------\n",
      "PHASE: TRAIN\n",
      "LR 5e-05\n"
     ]
    },
    {
     "name": "stderr",
     "output_type": "stream",
     "text": [
      "100%|██████████| 137/137 [00:15<00:00,  9.04it/s]\n"
     ]
    },
    {
     "name": "stdout",
     "output_type": "stream",
     "text": [
      "train_loss:  0.6068151382743007\n",
      "train_accuracy:  0.8074817518248175\n",
      "train_f1:  0.8313825165102539\n",
      "---------------------------\n",
      "PHASE: VAL\n"
     ]
    },
    {
     "name": "stderr",
     "output_type": "stream",
     "text": [
      "100%|██████████| 34/34 [00:04<00:00,  8.06it/s]\n"
     ]
    },
    {
     "name": "stdout",
     "output_type": "stream",
     "text": [
      "val_loss:  0.6210526572540402\n",
      "val_accuracy:  0.7867647058823529\n",
      "val_f1:  0.862452580099639\n",
      "---------------------------\n",
      "Epoch 23/60\n",
      "----------\n",
      "PHASE: TRAIN\n",
      "LR 5e-05\n"
     ]
    },
    {
     "name": "stderr",
     "output_type": "stream",
     "text": [
      "100%|██████████| 137/137 [00:15<00:00,  8.66it/s]\n"
     ]
    },
    {
     "name": "stdout",
     "output_type": "stream",
     "text": [
      "PHASE: VAL\n"
     ]
    },
    {
     "name": "stderr",
     "output_type": "stream",
     "text": [
      "100%|██████████| 34/34 [00:04<00:00,  7.87it/s]\n"
     ]
    },
    {
     "name": "stdout",
     "output_type": "stream",
     "text": [
      "Epoch 24/60\n",
      "----------\n",
      "PHASE: TRAIN\n",
      "LR 5e-05\n"
     ]
    },
    {
     "name": "stderr",
     "output_type": "stream",
     "text": [
      "100%|██████████| 137/137 [00:15<00:00,  8.73it/s]\n"
     ]
    },
    {
     "name": "stdout",
     "output_type": "stream",
     "text": [
      "train_loss:  0.5644405272102704\n",
      "train_accuracy:  0.8129562043795621\n",
      "train_f1:  0.8321689259645465\n",
      "---------------------------\n",
      "PHASE: VAL\n"
     ]
    },
    {
     "name": "stderr",
     "output_type": "stream",
     "text": [
      "100%|██████████| 34/34 [00:04<00:00,  7.91it/s]\n"
     ]
    },
    {
     "name": "stdout",
     "output_type": "stream",
     "text": [
      "val_loss:  0.6523142660529736\n",
      "val_accuracy:  0.7904411764705882\n",
      "val_f1:  0.8613046267458033\n",
      "---------------------------\n",
      "Epoch 25/60\n",
      "----------\n",
      "PHASE: TRAIN\n",
      "LR 5e-05\n"
     ]
    },
    {
     "name": "stderr",
     "output_type": "stream",
     "text": [
      "100%|██████████| 137/137 [00:14<00:00,  9.33it/s]\n"
     ]
    },
    {
     "name": "stdout",
     "output_type": "stream",
     "text": [
      "PHASE: VAL\n"
     ]
    },
    {
     "name": "stderr",
     "output_type": "stream",
     "text": [
      "100%|██████████| 34/34 [00:04<00:00,  7.92it/s]\n"
     ]
    },
    {
     "name": "stdout",
     "output_type": "stream",
     "text": [
      "Epoch 26/60\n",
      "----------\n",
      "PHASE: TRAIN\n",
      "LR 5e-05\n"
     ]
    },
    {
     "name": "stderr",
     "output_type": "stream",
     "text": [
      "100%|██████████| 137/137 [00:15<00:00,  8.93it/s]\n"
     ]
    },
    {
     "name": "stdout",
     "output_type": "stream",
     "text": [
      "train_loss:  0.4681999731237871\n",
      "train_accuracy:  0.843065693430657\n",
      "train_f1:  0.8640163364615921\n",
      "---------------------------\n",
      "PHASE: VAL\n"
     ]
    },
    {
     "name": "stderr",
     "output_type": "stream",
     "text": [
      "100%|██████████| 34/34 [00:04<00:00,  8.07it/s]\n"
     ]
    },
    {
     "name": "stdout",
     "output_type": "stream",
     "text": [
      "val_loss:  0.5958729355034473\n",
      "val_accuracy:  0.7830882352941176\n",
      "val_f1:  0.8606237104398871\n",
      "---------------------------\n",
      "Epoch 27/60\n",
      "----------\n",
      "PHASE: TRAIN\n",
      "LR 5e-05\n"
     ]
    },
    {
     "name": "stderr",
     "output_type": "stream",
     "text": [
      "100%|██████████| 137/137 [00:15<00:00,  8.87it/s]\n"
     ]
    },
    {
     "name": "stdout",
     "output_type": "stream",
     "text": [
      "PHASE: VAL\n"
     ]
    },
    {
     "name": "stderr",
     "output_type": "stream",
     "text": [
      "100%|██████████| 34/34 [00:04<00:00,  7.93it/s]\n"
     ]
    },
    {
     "name": "stdout",
     "output_type": "stream",
     "text": [
      "Epoch 28/60\n",
      "----------\n",
      "PHASE: TRAIN\n",
      "LR 5e-05\n"
     ]
    },
    {
     "name": "stderr",
     "output_type": "stream",
     "text": [
      "100%|██████████| 137/137 [00:15<00:00,  9.05it/s]\n"
     ]
    },
    {
     "name": "stdout",
     "output_type": "stream",
     "text": [
      "train_loss:  0.44933376249170653\n",
      "train_accuracy:  0.8531021897810219\n",
      "train_f1:  0.8775981925616964\n",
      "---------------------------\n",
      "PHASE: VAL\n"
     ]
    },
    {
     "name": "stderr",
     "output_type": "stream",
     "text": [
      "100%|██████████| 34/34 [00:04<00:00,  7.94it/s]\n"
     ]
    },
    {
     "name": "stdout",
     "output_type": "stream",
     "text": [
      "val_loss:  0.5766491519547451\n",
      "val_accuracy:  0.8125\n",
      "val_f1:  0.8798453996983411\n",
      "---------------------------\n",
      "Epoch 29/60\n",
      "----------\n",
      "PHASE: TRAIN\n",
      "LR 5e-05\n"
     ]
    },
    {
     "name": "stderr",
     "output_type": "stream",
     "text": [
      "100%|██████████| 137/137 [00:15<00:00,  8.72it/s]\n"
     ]
    },
    {
     "name": "stdout",
     "output_type": "stream",
     "text": [
      "PHASE: VAL\n"
     ]
    },
    {
     "name": "stderr",
     "output_type": "stream",
     "text": [
      "100%|██████████| 34/34 [00:04<00:00,  8.00it/s]\n"
     ]
    },
    {
     "name": "stdout",
     "output_type": "stream",
     "text": [
      "Epoch 30/60\n",
      "----------\n",
      "PHASE: TRAIN\n",
      "LR 5e-05\n"
     ]
    },
    {
     "name": "stderr",
     "output_type": "stream",
     "text": [
      "100%|██████████| 137/137 [00:16<00:00,  8.31it/s]\n"
     ]
    },
    {
     "name": "stdout",
     "output_type": "stream",
     "text": [
      "train_loss:  0.419538107693848\n",
      "train_accuracy:  0.8695255474452555\n",
      "train_f1:  0.8914233576642334\n",
      "---------------------------\n",
      "PHASE: VAL\n"
     ]
    },
    {
     "name": "stderr",
     "output_type": "stream",
     "text": [
      "100%|██████████| 34/34 [00:04<00:00,  7.92it/s]\n"
     ]
    },
    {
     "name": "stdout",
     "output_type": "stream",
     "text": [
      "val_loss:  0.6377084730809335\n",
      "val_accuracy:  0.7904411764705882\n",
      "val_f1:  0.8679272116772119\n",
      "---------------------------\n",
      "Epoch 31/60\n",
      "----------\n",
      "PHASE: TRAIN\n",
      "LR 5e-05\n"
     ]
    },
    {
     "name": "stderr",
     "output_type": "stream",
     "text": [
      "100%|██████████| 137/137 [00:15<00:00,  8.84it/s]\n"
     ]
    },
    {
     "name": "stdout",
     "output_type": "stream",
     "text": [
      "PHASE: VAL\n"
     ]
    },
    {
     "name": "stderr",
     "output_type": "stream",
     "text": [
      "100%|██████████| 34/34 [00:04<00:00,  8.08it/s]\n"
     ]
    },
    {
     "name": "stdout",
     "output_type": "stream",
     "text": [
      "Epoch 32/60\n",
      "----------\n",
      "PHASE: TRAIN\n",
      "LR 5e-05\n"
     ]
    },
    {
     "name": "stderr",
     "output_type": "stream",
     "text": [
      "100%|██████████| 137/137 [00:15<00:00,  8.81it/s]\n"
     ]
    },
    {
     "name": "stdout",
     "output_type": "stream",
     "text": [
      "train_loss:  0.3910643814988162\n",
      "train_accuracy:  0.864963503649635\n",
      "train_f1:  0.8873479318734793\n",
      "---------------------------\n",
      "PHASE: VAL\n"
     ]
    },
    {
     "name": "stderr",
     "output_type": "stream",
     "text": [
      "100%|██████████| 34/34 [00:04<00:00,  7.82it/s]\n"
     ]
    },
    {
     "name": "stdout",
     "output_type": "stream",
     "text": [
      "val_loss:  0.5803049948093865\n",
      "val_accuracy:  0.8198529411764706\n",
      "val_f1:  0.8894203427291665\n",
      "---------------------------\n",
      "Epoch 33/60\n",
      "----------\n",
      "PHASE: TRAIN\n",
      "LR 5e-05\n"
     ]
    },
    {
     "name": "stderr",
     "output_type": "stream",
     "text": [
      "100%|██████████| 137/137 [00:15<00:00,  9.05it/s]\n"
     ]
    },
    {
     "name": "stdout",
     "output_type": "stream",
     "text": [
      "PHASE: VAL\n"
     ]
    },
    {
     "name": "stderr",
     "output_type": "stream",
     "text": [
      "100%|██████████| 34/34 [00:04<00:00,  7.93it/s]\n"
     ]
    },
    {
     "name": "stdout",
     "output_type": "stream",
     "text": [
      "Epoch 34/60\n",
      "----------\n",
      "PHASE: TRAIN\n",
      "LR 5e-05\n"
     ]
    },
    {
     "name": "stderr",
     "output_type": "stream",
     "text": [
      "100%|██████████| 137/137 [00:15<00:00,  8.89it/s]\n"
     ]
    },
    {
     "name": "stdout",
     "output_type": "stream",
     "text": [
      "train_loss:  0.38905691994476493\n",
      "train_accuracy:  0.8777372262773723\n",
      "train_f1:  0.8980057351407715\n",
      "---------------------------\n",
      "PHASE: VAL\n"
     ]
    },
    {
     "name": "stderr",
     "output_type": "stream",
     "text": [
      "100%|██████████| 34/34 [00:04<00:00,  7.89it/s]\n"
     ]
    },
    {
     "name": "stdout",
     "output_type": "stream",
     "text": [
      "val_loss:  0.5577907513155985\n",
      "val_accuracy:  0.8125\n",
      "val_f1:  0.885707756295992\n",
      "---------------------------\n",
      "Epoch 35/60\n",
      "----------\n",
      "PHASE: TRAIN\n",
      "LR 5e-05\n"
     ]
    },
    {
     "name": "stderr",
     "output_type": "stream",
     "text": [
      "100%|██████████| 137/137 [00:14<00:00,  9.20it/s]\n"
     ]
    },
    {
     "name": "stdout",
     "output_type": "stream",
     "text": [
      "PHASE: VAL\n"
     ]
    },
    {
     "name": "stderr",
     "output_type": "stream",
     "text": [
      "100%|██████████| 34/34 [00:04<00:00,  7.80it/s]\n"
     ]
    },
    {
     "name": "stdout",
     "output_type": "stream",
     "text": [
      "Epoch 36/60\n",
      "----------\n",
      "PHASE: TRAIN\n",
      "LR 5e-05\n"
     ]
    },
    {
     "name": "stderr",
     "output_type": "stream",
     "text": [
      "100%|██████████| 137/137 [00:14<00:00,  9.15it/s]\n"
     ]
    },
    {
     "name": "stdout",
     "output_type": "stream",
     "text": [
      "train_loss:  0.32936860620975494\n",
      "train_accuracy:  0.8895985401459854\n",
      "train_f1:  0.9071385123392423\n",
      "---------------------------\n",
      "PHASE: VAL\n"
     ]
    },
    {
     "name": "stderr",
     "output_type": "stream",
     "text": [
      "100%|██████████| 34/34 [00:04<00:00,  7.89it/s]\n"
     ]
    },
    {
     "name": "stdout",
     "output_type": "stream",
     "text": [
      "val_loss:  0.5140471714959645\n",
      "val_accuracy:  0.8639705882352942\n",
      "val_f1:  0.9169726515314752\n",
      "---------------------------\n",
      "Epoch 37/60\n",
      "----------\n",
      "PHASE: TRAIN\n",
      "LR 5e-05\n"
     ]
    },
    {
     "name": "stderr",
     "output_type": "stream",
     "text": [
      "100%|██████████| 137/137 [00:15<00:00,  9.12it/s]\n"
     ]
    },
    {
     "name": "stdout",
     "output_type": "stream",
     "text": [
      "PHASE: VAL\n"
     ]
    },
    {
     "name": "stderr",
     "output_type": "stream",
     "text": [
      "100%|██████████| 34/34 [00:04<00:00,  7.87it/s]\n"
     ]
    },
    {
     "name": "stdout",
     "output_type": "stream",
     "text": [
      "Epoch 38/60\n",
      "----------\n",
      "PHASE: TRAIN\n",
      "LR 5e-05\n"
     ]
    },
    {
     "name": "stderr",
     "output_type": "stream",
     "text": [
      "100%|██████████| 137/137 [00:15<00:00,  8.99it/s]\n"
     ]
    },
    {
     "name": "stdout",
     "output_type": "stream",
     "text": [
      "train_loss:  0.3420879324748568\n",
      "train_accuracy:  0.8941605839416058\n",
      "train_f1:  0.9141510253736532\n",
      "---------------------------\n",
      "PHASE: VAL\n"
     ]
    },
    {
     "name": "stderr",
     "output_type": "stream",
     "text": [
      "100%|██████████| 34/34 [00:04<00:00,  7.93it/s]\n"
     ]
    },
    {
     "name": "stdout",
     "output_type": "stream",
     "text": [
      "val_loss:  0.5983936535605394\n",
      "val_accuracy:  0.8345588235294118\n",
      "val_f1:  0.8948056028938384\n",
      "---------------------------\n",
      "Epoch 39/60\n",
      "----------\n",
      "PHASE: TRAIN\n",
      "LR 5e-05\n"
     ]
    },
    {
     "name": "stderr",
     "output_type": "stream",
     "text": [
      "100%|██████████| 137/137 [00:15<00:00,  8.88it/s]\n"
     ]
    },
    {
     "name": "stdout",
     "output_type": "stream",
     "text": [
      "PHASE: VAL\n"
     ]
    },
    {
     "name": "stderr",
     "output_type": "stream",
     "text": [
      "100%|██████████| 34/34 [00:04<00:00,  7.83it/s]\n"
     ]
    },
    {
     "name": "stdout",
     "output_type": "stream",
     "text": [
      "Epoch 40/60\n",
      "----------\n",
      "PHASE: TRAIN\n",
      "LR 2.5e-05\n"
     ]
    },
    {
     "name": "stderr",
     "output_type": "stream",
     "text": [
      "100%|██████████| 137/137 [00:14<00:00,  9.32it/s]\n"
     ]
    },
    {
     "name": "stdout",
     "output_type": "stream",
     "text": [
      "train_loss:  0.24746541304337064\n",
      "train_accuracy:  0.9315693430656934\n",
      "train_f1:  0.9433307264511647\n",
      "---------------------------\n",
      "PHASE: VAL\n"
     ]
    },
    {
     "name": "stderr",
     "output_type": "stream",
     "text": [
      "100%|██████████| 34/34 [00:04<00:00,  7.80it/s]\n"
     ]
    },
    {
     "name": "stdout",
     "output_type": "stream",
     "text": [
      "val_loss:  0.5322480572332793\n",
      "val_accuracy:  0.8639705882352942\n",
      "val_f1:  0.9165069407716468\n",
      "---------------------------\n",
      "Epoch 41/60\n",
      "----------\n",
      "PHASE: TRAIN\n",
      "LR 2.5e-05\n"
     ]
    },
    {
     "name": "stderr",
     "output_type": "stream",
     "text": [
      "100%|██████████| 137/137 [00:15<00:00,  8.70it/s]\n"
     ]
    },
    {
     "name": "stdout",
     "output_type": "stream",
     "text": [
      "PHASE: VAL\n"
     ]
    },
    {
     "name": "stderr",
     "output_type": "stream",
     "text": [
      "100%|██████████| 34/34 [00:04<00:00,  7.94it/s]\n"
     ]
    },
    {
     "name": "stdout",
     "output_type": "stream",
     "text": [
      "Epoch 42/60\n",
      "----------\n",
      "PHASE: TRAIN\n",
      "LR 2.5e-05\n"
     ]
    },
    {
     "name": "stderr",
     "output_type": "stream",
     "text": [
      "100%|██████████| 137/137 [00:15<00:00,  8.83it/s]\n"
     ]
    },
    {
     "name": "stdout",
     "output_type": "stream",
     "text": [
      "train_loss:  0.2329555796731236\n",
      "train_accuracy:  0.9306569343065694\n",
      "train_f1:  0.9419273548835594\n",
      "---------------------------\n",
      "PHASE: VAL\n"
     ]
    },
    {
     "name": "stderr",
     "output_type": "stream",
     "text": [
      "100%|██████████| 34/34 [00:04<00:00,  7.91it/s]\n"
     ]
    },
    {
     "name": "stdout",
     "output_type": "stream",
     "text": [
      "val_loss:  0.5283478983157479\n",
      "val_accuracy:  0.8566176470588235\n",
      "val_f1:  0.9141908744849924\n",
      "---------------------------\n",
      "Epoch 43/60\n",
      "----------\n",
      "PHASE: TRAIN\n",
      "LR 2.5e-05\n"
     ]
    },
    {
     "name": "stderr",
     "output_type": "stream",
     "text": [
      "100%|██████████| 137/137 [00:15<00:00,  8.71it/s]\n"
     ]
    },
    {
     "name": "stdout",
     "output_type": "stream",
     "text": [
      "PHASE: VAL\n"
     ]
    },
    {
     "name": "stderr",
     "output_type": "stream",
     "text": [
      "100%|██████████| 34/34 [00:04<00:00,  8.32it/s]\n"
     ]
    },
    {
     "name": "stdout",
     "output_type": "stream",
     "text": [
      "Epoch 44/60\n",
      "----------\n",
      "PHASE: TRAIN\n",
      "LR 2.5e-05\n"
     ]
    },
    {
     "name": "stderr",
     "output_type": "stream",
     "text": [
      "100%|██████████| 137/137 [00:15<00:00,  8.89it/s]\n"
     ]
    },
    {
     "name": "stdout",
     "output_type": "stream",
     "text": [
      "train_loss:  0.2193169838266216\n",
      "train_accuracy:  0.9343065693430657\n",
      "train_f1:  0.9499000695168579\n",
      "---------------------------\n",
      "PHASE: VAL\n"
     ]
    },
    {
     "name": "stderr",
     "output_type": "stream",
     "text": [
      "100%|██████████| 34/34 [00:04<00:00,  8.07it/s]\n"
     ]
    },
    {
     "name": "stdout",
     "output_type": "stream",
     "text": [
      "val_loss:  0.4942612673518905\n",
      "val_accuracy:  0.8602941176470589\n",
      "val_f1:  0.916764159043571\n",
      "---------------------------\n",
      "Epoch 45/60\n",
      "----------\n",
      "PHASE: TRAIN\n",
      "LR 2.5e-05\n"
     ]
    },
    {
     "name": "stderr",
     "output_type": "stream",
     "text": [
      "100%|██████████| 137/137 [00:15<00:00,  8.65it/s]\n"
     ]
    },
    {
     "name": "stdout",
     "output_type": "stream",
     "text": [
      "PHASE: VAL\n"
     ]
    },
    {
     "name": "stderr",
     "output_type": "stream",
     "text": [
      "100%|██████████| 34/34 [00:04<00:00,  7.86it/s]\n"
     ]
    },
    {
     "name": "stdout",
     "output_type": "stream",
     "text": [
      "Epoch 46/60\n",
      "----------\n",
      "PHASE: TRAIN\n",
      "LR 2.5e-05\n"
     ]
    },
    {
     "name": "stderr",
     "output_type": "stream",
     "text": [
      "100%|██████████| 137/137 [00:15<00:00,  8.89it/s]\n"
     ]
    },
    {
     "name": "stdout",
     "output_type": "stream",
     "text": [
      "train_loss:  0.21317281675300676\n",
      "train_accuracy:  0.9370437956204379\n",
      "train_f1:  0.9520594369134516\n",
      "---------------------------\n",
      "PHASE: VAL\n"
     ]
    },
    {
     "name": "stderr",
     "output_type": "stream",
     "text": [
      "100%|██████████| 34/34 [00:04<00:00,  7.92it/s]\n"
     ]
    },
    {
     "name": "stdout",
     "output_type": "stream",
     "text": [
      "val_loss:  0.4566594661985565\n",
      "val_accuracy:  0.8492647058823529\n",
      "val_f1:  0.9084870603252959\n",
      "---------------------------\n",
      "Epoch 47/60\n",
      "----------\n",
      "PHASE: TRAIN\n",
      "LR 2.5e-05\n"
     ]
    },
    {
     "name": "stderr",
     "output_type": "stream",
     "text": [
      "100%|██████████| 137/137 [00:15<00:00,  8.87it/s]\n"
     ]
    },
    {
     "name": "stdout",
     "output_type": "stream",
     "text": [
      "PHASE: VAL\n"
     ]
    },
    {
     "name": "stderr",
     "output_type": "stream",
     "text": [
      "100%|██████████| 34/34 [00:04<00:00,  7.94it/s]\n"
     ]
    },
    {
     "name": "stdout",
     "output_type": "stream",
     "text": [
      "Epoch 48/60\n",
      "----------\n",
      "PHASE: TRAIN\n",
      "LR 2.5e-05\n"
     ]
    },
    {
     "name": "stderr",
     "output_type": "stream",
     "text": [
      "100%|██████████| 137/137 [00:15<00:00,  9.08it/s]\n"
     ]
    },
    {
     "name": "stdout",
     "output_type": "stream",
     "text": [
      "train_loss:  0.18011995282595175\n",
      "train_accuracy:  0.9552919708029197\n",
      "train_f1:  0.9660207391959218\n",
      "---------------------------\n",
      "PHASE: VAL\n"
     ]
    },
    {
     "name": "stderr",
     "output_type": "stream",
     "text": [
      "100%|██████████| 34/34 [00:04<00:00,  8.17it/s]\n"
     ]
    },
    {
     "name": "stdout",
     "output_type": "stream",
     "text": [
      "val_loss:  0.49292728859290946\n",
      "val_accuracy:  0.8492647058823529\n",
      "val_f1:  0.9099108407931941\n",
      "---------------------------\n",
      "Epoch 49/60\n",
      "----------\n",
      "PHASE: TRAIN\n",
      "LR 2.5e-05\n"
     ]
    },
    {
     "name": "stderr",
     "output_type": "stream",
     "text": [
      "100%|██████████| 137/137 [00:15<00:00,  8.60it/s]\n"
     ]
    },
    {
     "name": "stdout",
     "output_type": "stream",
     "text": [
      "PHASE: VAL\n"
     ]
    },
    {
     "name": "stderr",
     "output_type": "stream",
     "text": [
      "100%|██████████| 34/34 [00:04<00:00,  8.02it/s]\n"
     ]
    },
    {
     "name": "stdout",
     "output_type": "stream",
     "text": [
      "Epoch 50/60\n",
      "----------\n",
      "PHASE: TRAIN\n",
      "LR 2.5e-05\n"
     ]
    },
    {
     "name": "stderr",
     "output_type": "stream",
     "text": [
      "100%|██████████| 137/137 [00:15<00:00,  8.75it/s]\n"
     ]
    },
    {
     "name": "stdout",
     "output_type": "stream",
     "text": [
      "train_loss:  0.1741646094193315\n",
      "train_accuracy:  0.9443430656934306\n",
      "train_f1:  0.9536843934654158\n",
      "---------------------------\n",
      "PHASE: VAL\n"
     ]
    },
    {
     "name": "stderr",
     "output_type": "stream",
     "text": [
      "100%|██████████| 34/34 [00:04<00:00,  7.74it/s]\n"
     ]
    },
    {
     "name": "stdout",
     "output_type": "stream",
     "text": [
      "val_loss:  0.5144129087018561\n",
      "val_accuracy:  0.8345588235294118\n",
      "val_f1:  0.8973272234301648\n",
      "---------------------------\n",
      "Epoch 51/60\n",
      "----------\n",
      "PHASE: TRAIN\n",
      "LR 2.5e-05\n"
     ]
    },
    {
     "name": "stderr",
     "output_type": "stream",
     "text": [
      "100%|██████████| 137/137 [00:15<00:00,  8.87it/s]\n"
     ]
    },
    {
     "name": "stdout",
     "output_type": "stream",
     "text": [
      "PHASE: VAL\n"
     ]
    },
    {
     "name": "stderr",
     "output_type": "stream",
     "text": [
      "100%|██████████| 34/34 [00:04<00:00,  7.94it/s]\n"
     ]
    },
    {
     "name": "stdout",
     "output_type": "stream",
     "text": [
      "Epoch 52/60\n",
      "----------\n",
      "PHASE: TRAIN\n",
      "LR 2.5e-05\n"
     ]
    },
    {
     "name": "stderr",
     "output_type": "stream",
     "text": [
      "100%|██████████| 137/137 [00:15<00:00,  8.68it/s]\n"
     ]
    },
    {
     "name": "stdout",
     "output_type": "stream",
     "text": [
      "train_loss:  0.1877567027185629\n",
      "train_accuracy:  0.9416058394160584\n",
      "train_f1:  0.951655370177268\n",
      "---------------------------\n",
      "PHASE: VAL\n"
     ]
    },
    {
     "name": "stderr",
     "output_type": "stream",
     "text": [
      "100%|██████████| 34/34 [00:04<00:00,  7.69it/s]\n"
     ]
    },
    {
     "name": "stdout",
     "output_type": "stream",
     "text": [
      "val_loss:  0.48634049650761024\n",
      "val_accuracy:  0.8419117647058824\n",
      "val_f1:  0.9041203077967785\n",
      "---------------------------\n",
      "Epoch 53/60\n",
      "----------\n",
      "PHASE: TRAIN\n",
      "LR 2.5e-05\n"
     ]
    },
    {
     "name": "stderr",
     "output_type": "stream",
     "text": [
      "100%|██████████| 137/137 [00:16<00:00,  8.28it/s]\n"
     ]
    },
    {
     "name": "stdout",
     "output_type": "stream",
     "text": [
      "PHASE: VAL\n"
     ]
    },
    {
     "name": "stderr",
     "output_type": "stream",
     "text": [
      "100%|██████████| 34/34 [00:04<00:00,  7.92it/s]\n"
     ]
    },
    {
     "name": "stdout",
     "output_type": "stream",
     "text": [
      "Epoch 54/60\n",
      "----------\n",
      "PHASE: TRAIN\n",
      "LR 2.5e-05\n"
     ]
    },
    {
     "name": "stderr",
     "output_type": "stream",
     "text": [
      "100%|██████████| 137/137 [00:16<00:00,  8.34it/s]\n"
     ]
    },
    {
     "name": "stdout",
     "output_type": "stream",
     "text": [
      "train_loss:  0.1720879337865941\n",
      "train_accuracy:  0.9516423357664233\n",
      "train_f1:  0.9615542810798287\n",
      "---------------------------\n",
      "PHASE: VAL\n"
     ]
    },
    {
     "name": "stderr",
     "output_type": "stream",
     "text": [
      "100%|██████████| 34/34 [00:04<00:00,  8.00it/s]\n"
     ]
    },
    {
     "name": "stdout",
     "output_type": "stream",
     "text": [
      "val_loss:  0.5179608372769401\n",
      "val_accuracy:  0.8602941176470589\n",
      "val_f1:  0.9169420448832216\n",
      "---------------------------\n",
      "Epoch 55/60\n",
      "----------\n",
      "PHASE: TRAIN\n",
      "LR 2.5e-05\n"
     ]
    },
    {
     "name": "stderr",
     "output_type": "stream",
     "text": [
      "100%|██████████| 137/137 [00:15<00:00,  8.76it/s]\n"
     ]
    },
    {
     "name": "stdout",
     "output_type": "stream",
     "text": [
      "PHASE: VAL\n"
     ]
    },
    {
     "name": "stderr",
     "output_type": "stream",
     "text": [
      "100%|██████████| 34/34 [00:04<00:00,  7.80it/s]\n"
     ]
    },
    {
     "name": "stdout",
     "output_type": "stream",
     "text": [
      "Epoch 56/60\n",
      "----------\n",
      "PHASE: TRAIN\n",
      "LR 2.5e-05\n"
     ]
    },
    {
     "name": "stderr",
     "output_type": "stream",
     "text": [
      "100%|██████████| 137/137 [00:16<00:00,  8.34it/s]\n"
     ]
    },
    {
     "name": "stdout",
     "output_type": "stream",
     "text": [
      "train_loss:  0.15906861206401057\n",
      "train_accuracy:  0.9461678832116789\n",
      "train_f1:  0.9555222453945084\n",
      "---------------------------\n",
      "PHASE: VAL\n"
     ]
    },
    {
     "name": "stderr",
     "output_type": "stream",
     "text": [
      "100%|██████████| 34/34 [00:04<00:00,  7.97it/s]\n"
     ]
    },
    {
     "name": "stdout",
     "output_type": "stream",
     "text": [
      "val_loss:  0.492658714277615\n",
      "val_accuracy:  0.8419117647058824\n",
      "val_f1:  0.9023880735277796\n",
      "---------------------------\n",
      "Epoch 57/60\n",
      "----------\n",
      "PHASE: TRAIN\n",
      "LR 2.5e-05\n"
     ]
    },
    {
     "name": "stderr",
     "output_type": "stream",
     "text": [
      "100%|██████████| 137/137 [00:15<00:00,  8.86it/s]\n"
     ]
    },
    {
     "name": "stdout",
     "output_type": "stream",
     "text": [
      "PHASE: VAL\n"
     ]
    },
    {
     "name": "stderr",
     "output_type": "stream",
     "text": [
      "100%|██████████| 34/34 [00:04<00:00,  7.87it/s]\n"
     ]
    },
    {
     "name": "stdout",
     "output_type": "stream",
     "text": [
      "Epoch 58/60\n",
      "----------\n",
      "PHASE: TRAIN\n",
      "LR 2.5e-05\n"
     ]
    },
    {
     "name": "stderr",
     "output_type": "stream",
     "text": [
      "100%|██████████| 137/137 [00:16<00:00,  8.54it/s]\n"
     ]
    },
    {
     "name": "stdout",
     "output_type": "stream",
     "text": [
      "train_loss:  0.13056265904370995\n",
      "train_accuracy:  0.9635036496350365\n",
      "train_f1:  0.9718587069864446\n",
      "---------------------------\n",
      "PHASE: VAL\n"
     ]
    },
    {
     "name": "stderr",
     "output_type": "stream",
     "text": [
      "100%|██████████| 34/34 [00:04<00:00,  8.02it/s]\n"
     ]
    },
    {
     "name": "stdout",
     "output_type": "stream",
     "text": [
      "val_loss:  0.47113278575938344\n",
      "val_accuracy:  0.8345588235294118\n",
      "val_f1:  0.9006162138515083\n",
      "---------------------------\n",
      "Epoch 59/60\n",
      "----------\n",
      "PHASE: TRAIN\n",
      "LR 2.5e-05\n"
     ]
    },
    {
     "name": "stderr",
     "output_type": "stream",
     "text": [
      "100%|██████████| 137/137 [00:15<00:00,  9.01it/s]\n"
     ]
    },
    {
     "name": "stdout",
     "output_type": "stream",
     "text": [
      "PHASE: VAL\n"
     ]
    },
    {
     "name": "stderr",
     "output_type": "stream",
     "text": [
      "100%|██████████| 34/34 [00:04<00:00,  7.84it/s]\n"
     ]
    },
    {
     "name": "stdout",
     "output_type": "stream",
     "text": [
      "Epoch 60/60\n",
      "----------\n",
      "PHASE: TRAIN\n",
      "LR 1.25e-05\n"
     ]
    },
    {
     "name": "stderr",
     "output_type": "stream",
     "text": [
      "100%|██████████| 137/137 [00:15<00:00,  8.95it/s]\n"
     ]
    },
    {
     "name": "stdout",
     "output_type": "stream",
     "text": [
      "train_loss:  0.1547586192533265\n",
      "train_accuracy:  0.9470802919708029\n",
      "train_f1:  0.959758428919013\n",
      "---------------------------\n",
      "PHASE: VAL\n"
     ]
    },
    {
     "name": "stderr",
     "output_type": "stream",
     "text": [
      "100%|██████████| 34/34 [00:04<00:00,  7.84it/s]"
     ]
    },
    {
     "name": "stdout",
     "output_type": "stream",
     "text": [
      "val_loss:  0.46795229953268597\n",
      "val_accuracy:  0.8492647058823529\n",
      "val_f1:  0.9118880302703835\n",
      "---------------------------\n"
     ]
    },
    {
     "name": "stderr",
     "output_type": "stream",
     "text": [
      "\n"
     ]
    }
   ],
   "source": [
    "train_params = {\n",
    "    'start_lr': 1e-4,\n",
    "    'scheduler_step_size': 20,\n",
    "    'scheduler_gamma': 0.5,\n",
    "    'num_epochs': 60,\n",
    "    'every_epoch': 2,\n",
    "}\n",
    "\n",
    "optimizer_ft = optim.Adam(filter(lambda p: p.requires_grad, effnet.parameters()), \n",
    "                          lr=train_params['start_lr'])\n",
    "\n",
    "exp_lr_scheduler = lr_scheduler.StepLR(optimizer_ft, \n",
    "                                       step_size=train_params['scheduler_step_size'], \n",
    "                                       gamma=train_params['scheduler_gamma'])\n",
    "loss_func = nn.CrossEntropyLoss()\n",
    "\n",
    "effnet, train_history, val_history = train_model(effnet, 'effnet_weights', optimizer_ft, \n",
    "                                                loss_func, exp_lr_scheduler, \n",
    "                                                num_epochs=train_params['num_epochs'],\n",
    "                                                every_epoch = train_params['every_epoch'])"
   ]
  },
  {
   "cell_type": "code",
   "execution_count": 15,
   "id": "c4287b02",
   "metadata": {},
   "outputs": [],
   "source": [
    "x = np.arange(1, 31)*2"
   ]
  },
  {
   "cell_type": "code",
   "execution_count": 16,
   "id": "2040b439",
   "metadata": {},
   "outputs": [
    {
     "data": {
      "image/png": "[encoded data removed]",
      "text/plain": [
       "<Figure size 1296x360 with 3 Axes>"
      ]
     },
     "metadata": {
      "needs_background": "light"
     },
     "output_type": "display_data"
    }
   ],
   "source": [
    "fig, axs = plt.subplots(1, 3, figsize=(18, 5))\n",
    "fig.suptitle(\"Learning curves\")\n",
    "axs[0].plot(x, train_history['loss'], 'r', label = 'train')\n",
    "axs[0].plot(x, val_history['loss'], 'b', label = 'val')\n",
    "axs[0].legend(loc=\"upper right\")\n",
    "axs[0].set_title(\"Loss\")\n",
    "axs[1].plot(x, train_history['accuracy'], 'r', label = 'train')\n",
    "axs[1].plot(x, val_history['accuracy'], 'b', label = 'val')\n",
    "axs[1].legend(loc=\"upper right\")\n",
    "axs[1].set_title(\"Accuracy\")\n",
    "axs[2].plot(x, train_history['f1'], 'r', label = 'train')\n",
    "axs[2].plot(x, val_history['f1'], 'b', label = 'val')\n",
    "axs[2].legend(loc=\"upper right\")\n",
    "axs[2].set_title(\"F1-score\")\n",
    "None"
   ]
  },
  {
   "cell_type": "markdown",
   "id": "f81760ee",
   "metadata": {},
   "source": [
    "Лучший скор на 42 этохе"
   ]
  },
  {
   "cell_type": "code",
   "execution_count": 17,
   "id": "ea998817",
   "metadata": {},
   "outputs": [
    {
     "name": "stdout",
     "output_type": "stream",
     "text": [
      "Val f1: 0.916764159043571\n",
      "Val accuracy: 0.8602941176470589\n"
     ]
    }
   ],
   "source": [
    "val_f1 = val_history['f1'][21]\n",
    "val_acc = val_history['accuracy'][21]\n",
    "print(f'Val f1: {val_f1}')\n",
    "print(f'Val accuracy: {val_acc}')"
   ]
  },
  {
   "cell_type": "markdown",
   "id": "e2eae43f",
   "metadata": {
    "id": "0f33a7a3"
   },
   "source": [
    "### Summary"
   ]
  },
  {
   "cell_type": "code",
   "execution_count": 18,
   "id": "419e0def",
   "metadata": {
    "id": "p3oxzcfPyuI_"
   },
   "outputs": [],
   "source": [
    "def find_true_pred_arrays(model, val_dataloader):\n",
    "    model.eval()\n",
    "    true = np.array([])\n",
    "    pred = np.array([])\n",
    "\n",
    "    for inputs, labels in tqdm(val_dataloader):\n",
    "        inputs = inputs.float() \n",
    "        inputs = inputs.to(device)\n",
    "\n",
    "        with torch.no_grad():\n",
    "            outputs = model(inputs)\n",
    "\n",
    "        true = np.append(true, labels.detach().numpy())\n",
    "        pred = np.append(pred, torch.argmax(outputs, dim=1).cpu().detach().numpy())\n",
    "    \n",
    "    return true, pred\n",
    "\n",
    "def plot_cf(cf):\n",
    "    df_cm = pd.DataFrame(cf, range(10), range(10))\n",
    "    # plt.figure(figsize=(10,7))\n",
    "    sn.set(font_scale=1.4) # for label size\n",
    "    sn.heatmap(df_cm, annot=True, annot_kws={\"size\": 16}) # font size\n",
    "\n",
    "    plt.show()"
   ]
  },
  {
   "cell_type": "code",
   "execution_count": 19,
   "id": "143a9b58",
   "metadata": {},
   "outputs": [
    {
     "name": "stderr",
     "output_type": "stream",
     "text": [
      "100%|██████████| 34/34 [00:04<00:00,  8.00it/s]\n"
     ]
    },
    {
     "data": {
      "image/png": "[encoded data removed]",
      "text/plain": [
       "<Figure size 432x288 with 2 Axes>"
      ]
     },
     "metadata": {},
     "output_type": "display_data"
    }
   ],
   "source": [
    "true, pred = find_true_pred_arrays(effnet, val_dataloader)\n",
    "cf = confusion_matrix(true, pred)\n",
    "plot_cf(cf)"
   ]
  },
  {
   "cell_type": "code",
   "execution_count": 20,
   "id": "2119d2e4",
   "metadata": {},
   "outputs": [
    {
     "name": "stdout",
     "output_type": "stream",
     "text": [
      "              precision    recall  f1-score   support\n",
      "\n",
      "         0.0       0.79      0.73      0.76        26\n",
      "         1.0       0.92      0.82      0.87        28\n",
      "         2.0       1.00      1.00      1.00        27\n",
      "         3.0       0.93      0.93      0.93        30\n",
      "         4.0       0.85      0.88      0.87        26\n",
      "         5.0       0.80      0.71      0.75        28\n",
      "         6.0       0.96      0.92      0.94        26\n",
      "         7.0       0.84      0.75      0.79        28\n",
      "         8.0       0.76      0.96      0.85        27\n",
      "         9.0       0.80      0.92      0.86        26\n",
      "\n",
      "    accuracy                           0.86       272\n",
      "   macro avg       0.87      0.86      0.86       272\n",
      "weighted avg       0.87      0.86      0.86       272\n",
      "\n"
     ]
    }
   ],
   "source": [
    "print(classification_report(true, pred))"
   ]
  },
  {
   "cell_type": "markdown",
   "id": "3eb8bc44",
   "metadata": {},
   "source": [
    "### Выводы:\n",
    "* Были обучены 3 модели (VGG16, ResNet18 и EfficientNet-B0)\n",
    "* Лучшего качества достигла модель EfficientNet-B0\n",
    "* Судя по высоким метрикам, почти диагональной матрице конфузии и отсутствию выпадающих классов в classification report, модель достаточно хорошо справляется с поставленной задачей классификации"
   ]
  },
  {
   "cell_type": "code",
   "execution_count": null,
   "id": "5bc3a15d",
   "metadata": {},
   "outputs": [],
   "source": []
  }
 ],
 "metadata": {
  "accelerator": "GPU",
  "colab": {
   "provenance": []
  },
  "gpuClass": "standard",
  "kernelspec": {
   "display_name": "Python 3",
   "language": "python",
   "name": "python3"
  },
  "language_info": {
   "codemirror_mode": {
    "name": "ipython",
    "version": 3
   },
   "file_extension": ".py",
   "mimetype": "text/x-python",
   "name": "python",
   "nbconvert_exporter": "python",
   "pygments_lexer": "ipython3",
   "version": "3.7.12"
  }
 },
 "nbformat": 4,
 "nbformat_minor": 5
}
